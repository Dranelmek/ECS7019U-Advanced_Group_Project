{
  "nbformat": 4,
  "nbformat_minor": 0,
  "metadata": {
    "colab": {
      "provenance": [],
      "gpuType": "T4"
    },
    "kernelspec": {
      "name": "python3",
      "display_name": "Python 3"
    },
    "language_info": {
      "name": "python"
    },
    "accelerator": "GPU"
  },
  "cells": [
    {
      "cell_type": "markdown",
      "source": [
        "# Neccessary Installations and Imports"
      ],
      "metadata": {
        "id": "N4Cadb3RhkCJ"
      }
    },
    {
      "cell_type": "code",
      "source": [
        "!pip install ultralytics"
      ],
      "metadata": {
        "colab": {
          "base_uri": "https://localhost:8080/"
        },
        "id": "4QQzvCzMpRHH",
        "outputId": "adfe071c-fbf6-4c1d-f8e5-060cfa4bec3c"
      },
      "execution_count": 1,
      "outputs": [
        {
          "output_type": "stream",
          "name": "stdout",
          "text": [
            "Collecting ultralytics\n",
            "  Downloading ultralytics-8.1.29-py3-none-any.whl (721 kB)\n",
            "\u001b[?25l     \u001b[90m━━━━━━━━━━━━━━━━━━━━━━━━━━━━━━━━━━━━━━━━\u001b[0m \u001b[32m0.0/721.3 kB\u001b[0m \u001b[31m?\u001b[0m eta \u001b[36m-:--:--\u001b[0m\r\u001b[2K     \u001b[91m━━━━━━━━━━\u001b[0m\u001b[90m╺\u001b[0m\u001b[90m━━━━━━━━━━━━━━━━━━━━━━━━━━━━━\u001b[0m \u001b[32m184.3/721.3 kB\u001b[0m \u001b[31m5.3 MB/s\u001b[0m eta \u001b[36m0:00:01\u001b[0m\r\u001b[2K     \u001b[90m━━━━━━━━━━━━━━━━━━━━━━━━━━━━━━━━━━━━━━━━\u001b[0m \u001b[32m721.3/721.3 kB\u001b[0m \u001b[31m12.0 MB/s\u001b[0m eta \u001b[36m0:00:00\u001b[0m\n",
            "\u001b[?25hRequirement already satisfied: matplotlib>=3.3.0 in /usr/local/lib/python3.10/dist-packages (from ultralytics) (3.7.1)\n",
            "Requirement already satisfied: opencv-python>=4.6.0 in /usr/local/lib/python3.10/dist-packages (from ultralytics) (4.8.0.76)\n",
            "Requirement already satisfied: pillow>=7.1.2 in /usr/local/lib/python3.10/dist-packages (from ultralytics) (9.4.0)\n",
            "Requirement already satisfied: pyyaml>=5.3.1 in /usr/local/lib/python3.10/dist-packages (from ultralytics) (6.0.1)\n",
            "Requirement already satisfied: requests>=2.23.0 in /usr/local/lib/python3.10/dist-packages (from ultralytics) (2.31.0)\n",
            "Requirement already satisfied: scipy>=1.4.1 in /usr/local/lib/python3.10/dist-packages (from ultralytics) (1.11.4)\n",
            "Requirement already satisfied: torch>=1.8.0 in /usr/local/lib/python3.10/dist-packages (from ultralytics) (2.2.1+cu121)\n",
            "Requirement already satisfied: torchvision>=0.9.0 in /usr/local/lib/python3.10/dist-packages (from ultralytics) (0.17.1+cu121)\n",
            "Requirement already satisfied: tqdm>=4.64.0 in /usr/local/lib/python3.10/dist-packages (from ultralytics) (4.66.2)\n",
            "Requirement already satisfied: psutil in /usr/local/lib/python3.10/dist-packages (from ultralytics) (5.9.5)\n",
            "Requirement already satisfied: py-cpuinfo in /usr/local/lib/python3.10/dist-packages (from ultralytics) (9.0.0)\n",
            "Collecting thop>=0.1.1 (from ultralytics)\n",
            "  Downloading thop-0.1.1.post2209072238-py3-none-any.whl (15 kB)\n",
            "Requirement already satisfied: pandas>=1.1.4 in /usr/local/lib/python3.10/dist-packages (from ultralytics) (1.5.3)\n",
            "Requirement already satisfied: seaborn>=0.11.0 in /usr/local/lib/python3.10/dist-packages (from ultralytics) (0.13.1)\n",
            "Requirement already satisfied: contourpy>=1.0.1 in /usr/local/lib/python3.10/dist-packages (from matplotlib>=3.3.0->ultralytics) (1.2.0)\n",
            "Requirement already satisfied: cycler>=0.10 in /usr/local/lib/python3.10/dist-packages (from matplotlib>=3.3.0->ultralytics) (0.12.1)\n",
            "Requirement already satisfied: fonttools>=4.22.0 in /usr/local/lib/python3.10/dist-packages (from matplotlib>=3.3.0->ultralytics) (4.49.0)\n",
            "Requirement already satisfied: kiwisolver>=1.0.1 in /usr/local/lib/python3.10/dist-packages (from matplotlib>=3.3.0->ultralytics) (1.4.5)\n",
            "Requirement already satisfied: numpy>=1.20 in /usr/local/lib/python3.10/dist-packages (from matplotlib>=3.3.0->ultralytics) (1.25.2)\n",
            "Requirement already satisfied: packaging>=20.0 in /usr/local/lib/python3.10/dist-packages (from matplotlib>=3.3.0->ultralytics) (24.0)\n",
            "Requirement already satisfied: pyparsing>=2.3.1 in /usr/local/lib/python3.10/dist-packages (from matplotlib>=3.3.0->ultralytics) (3.1.2)\n",
            "Requirement already satisfied: python-dateutil>=2.7 in /usr/local/lib/python3.10/dist-packages (from matplotlib>=3.3.0->ultralytics) (2.8.2)\n",
            "Requirement already satisfied: pytz>=2020.1 in /usr/local/lib/python3.10/dist-packages (from pandas>=1.1.4->ultralytics) (2023.4)\n",
            "Requirement already satisfied: charset-normalizer<4,>=2 in /usr/local/lib/python3.10/dist-packages (from requests>=2.23.0->ultralytics) (3.3.2)\n",
            "Requirement already satisfied: idna<4,>=2.5 in /usr/local/lib/python3.10/dist-packages (from requests>=2.23.0->ultralytics) (3.6)\n",
            "Requirement already satisfied: urllib3<3,>=1.21.1 in /usr/local/lib/python3.10/dist-packages (from requests>=2.23.0->ultralytics) (2.0.7)\n",
            "Requirement already satisfied: certifi>=2017.4.17 in /usr/local/lib/python3.10/dist-packages (from requests>=2.23.0->ultralytics) (2024.2.2)\n",
            "Requirement already satisfied: filelock in /usr/local/lib/python3.10/dist-packages (from torch>=1.8.0->ultralytics) (3.13.1)\n",
            "Requirement already satisfied: typing-extensions>=4.8.0 in /usr/local/lib/python3.10/dist-packages (from torch>=1.8.0->ultralytics) (4.10.0)\n",
            "Requirement already satisfied: sympy in /usr/local/lib/python3.10/dist-packages (from torch>=1.8.0->ultralytics) (1.12)\n",
            "Requirement already satisfied: networkx in /usr/local/lib/python3.10/dist-packages (from torch>=1.8.0->ultralytics) (3.2.1)\n",
            "Requirement already satisfied: jinja2 in /usr/local/lib/python3.10/dist-packages (from torch>=1.8.0->ultralytics) (3.1.3)\n",
            "Requirement already satisfied: fsspec in /usr/local/lib/python3.10/dist-packages (from torch>=1.8.0->ultralytics) (2023.6.0)\n",
            "Collecting nvidia-cuda-nvrtc-cu12==12.1.105 (from torch>=1.8.0->ultralytics)\n",
            "  Downloading nvidia_cuda_nvrtc_cu12-12.1.105-py3-none-manylinux1_x86_64.whl (23.7 MB)\n",
            "\u001b[2K     \u001b[90m━━━━━━━━━━━━━━━━━━━━━━━━━━━━━━━━━━━━━━━━\u001b[0m \u001b[32m23.7/23.7 MB\u001b[0m \u001b[31m50.4 MB/s\u001b[0m eta \u001b[36m0:00:00\u001b[0m\n",
            "\u001b[?25hCollecting nvidia-cuda-runtime-cu12==12.1.105 (from torch>=1.8.0->ultralytics)\n",
            "  Downloading nvidia_cuda_runtime_cu12-12.1.105-py3-none-manylinux1_x86_64.whl (823 kB)\n",
            "\u001b[2K     \u001b[90m━━━━━━━━━━━━━━━━━━━━━━━━━━━━━━━━━━━━━━━━\u001b[0m \u001b[32m823.6/823.6 kB\u001b[0m \u001b[31m69.3 MB/s\u001b[0m eta \u001b[36m0:00:00\u001b[0m\n",
            "\u001b[?25hCollecting nvidia-cuda-cupti-cu12==12.1.105 (from torch>=1.8.0->ultralytics)\n",
            "  Downloading nvidia_cuda_cupti_cu12-12.1.105-py3-none-manylinux1_x86_64.whl (14.1 MB)\n",
            "\u001b[2K     \u001b[90m━━━━━━━━━━━━━━━━━━━━━━━━━━━━━━━━━━━━━━━━\u001b[0m \u001b[32m14.1/14.1 MB\u001b[0m \u001b[31m78.5 MB/s\u001b[0m eta \u001b[36m0:00:00\u001b[0m\n",
            "\u001b[?25hCollecting nvidia-cudnn-cu12==8.9.2.26 (from torch>=1.8.0->ultralytics)\n",
            "  Downloading nvidia_cudnn_cu12-8.9.2.26-py3-none-manylinux1_x86_64.whl (731.7 MB)\n",
            "\u001b[2K     \u001b[90m━━━━━━━━━━━━━━━━━━━━━━━━━━━━━━━━━━━━━━━━\u001b[0m \u001b[32m731.7/731.7 MB\u001b[0m \u001b[31m1.5 MB/s\u001b[0m eta \u001b[36m0:00:00\u001b[0m\n",
            "\u001b[?25hCollecting nvidia-cublas-cu12==12.1.3.1 (from torch>=1.8.0->ultralytics)\n",
            "  Downloading nvidia_cublas_cu12-12.1.3.1-py3-none-manylinux1_x86_64.whl (410.6 MB)\n",
            "\u001b[2K     \u001b[90m━━━━━━━━━━━━━━━━━━━━━━━━━━━━━━━━━━━━━━━━\u001b[0m \u001b[32m410.6/410.6 MB\u001b[0m \u001b[31m1.4 MB/s\u001b[0m eta \u001b[36m0:00:00\u001b[0m\n",
            "\u001b[?25hCollecting nvidia-cufft-cu12==11.0.2.54 (from torch>=1.8.0->ultralytics)\n",
            "  Downloading nvidia_cufft_cu12-11.0.2.54-py3-none-manylinux1_x86_64.whl (121.6 MB)\n",
            "\u001b[2K     \u001b[90m━━━━━━━━━━━━━━━━━━━━━━━━━━━━━━━━━━━━━━━━\u001b[0m \u001b[32m121.6/121.6 MB\u001b[0m \u001b[31m7.9 MB/s\u001b[0m eta \u001b[36m0:00:00\u001b[0m\n",
            "\u001b[?25hCollecting nvidia-curand-cu12==10.3.2.106 (from torch>=1.8.0->ultralytics)\n",
            "  Downloading nvidia_curand_cu12-10.3.2.106-py3-none-manylinux1_x86_64.whl (56.5 MB)\n",
            "\u001b[2K     \u001b[90m━━━━━━━━━━━━━━━━━━━━━━━━━━━━━━━━━━━━━━━━\u001b[0m \u001b[32m56.5/56.5 MB\u001b[0m \u001b[31m11.1 MB/s\u001b[0m eta \u001b[36m0:00:00\u001b[0m\n",
            "\u001b[?25hCollecting nvidia-cusolver-cu12==11.4.5.107 (from torch>=1.8.0->ultralytics)\n",
            "  Downloading nvidia_cusolver_cu12-11.4.5.107-py3-none-manylinux1_x86_64.whl (124.2 MB)\n",
            "\u001b[2K     \u001b[90m━━━━━━━━━━━━━━━━━━━━━━━━━━━━━━━━━━━━━━━━\u001b[0m \u001b[32m124.2/124.2 MB\u001b[0m \u001b[31m8.1 MB/s\u001b[0m eta \u001b[36m0:00:00\u001b[0m\n",
            "\u001b[?25hCollecting nvidia-cusparse-cu12==12.1.0.106 (from torch>=1.8.0->ultralytics)\n",
            "  Downloading nvidia_cusparse_cu12-12.1.0.106-py3-none-manylinux1_x86_64.whl (196.0 MB)\n",
            "\u001b[2K     \u001b[90m━━━━━━━━━━━━━━━━━━━━━━━━━━━━━━━━━━━━━━━━\u001b[0m \u001b[32m196.0/196.0 MB\u001b[0m \u001b[31m2.4 MB/s\u001b[0m eta \u001b[36m0:00:00\u001b[0m\n",
            "\u001b[?25hCollecting nvidia-nccl-cu12==2.19.3 (from torch>=1.8.0->ultralytics)\n",
            "  Downloading nvidia_nccl_cu12-2.19.3-py3-none-manylinux1_x86_64.whl (166.0 MB)\n",
            "\u001b[2K     \u001b[90m━━━━━━━━━━━━━━━━━━━━━━━━━━━━━━━━━━━━━━━━\u001b[0m \u001b[32m166.0/166.0 MB\u001b[0m \u001b[31m7.7 MB/s\u001b[0m eta \u001b[36m0:00:00\u001b[0m\n",
            "\u001b[?25hCollecting nvidia-nvtx-cu12==12.1.105 (from torch>=1.8.0->ultralytics)\n",
            "  Downloading nvidia_nvtx_cu12-12.1.105-py3-none-manylinux1_x86_64.whl (99 kB)\n",
            "\u001b[2K     \u001b[90m━━━━━━━━━━━━━━━━━━━━━━━━━━━━━━━━━━━━━━━━\u001b[0m \u001b[32m99.1/99.1 kB\u001b[0m \u001b[31m14.2 MB/s\u001b[0m eta \u001b[36m0:00:00\u001b[0m\n",
            "\u001b[?25hRequirement already satisfied: triton==2.2.0 in /usr/local/lib/python3.10/dist-packages (from torch>=1.8.0->ultralytics) (2.2.0)\n",
            "Collecting nvidia-nvjitlink-cu12 (from nvidia-cusolver-cu12==11.4.5.107->torch>=1.8.0->ultralytics)\n",
            "  Downloading nvidia_nvjitlink_cu12-12.4.99-py3-none-manylinux2014_x86_64.whl (21.1 MB)\n",
            "\u001b[2K     \u001b[90m━━━━━━━━━━━━━━━━━━━━━━━━━━━━━━━━━━━━━━━━\u001b[0m \u001b[32m21.1/21.1 MB\u001b[0m \u001b[31m70.2 MB/s\u001b[0m eta \u001b[36m0:00:00\u001b[0m\n",
            "\u001b[?25hRequirement already satisfied: six>=1.5 in /usr/local/lib/python3.10/dist-packages (from python-dateutil>=2.7->matplotlib>=3.3.0->ultralytics) (1.16.0)\n",
            "Requirement already satisfied: MarkupSafe>=2.0 in /usr/local/lib/python3.10/dist-packages (from jinja2->torch>=1.8.0->ultralytics) (2.1.5)\n",
            "Requirement already satisfied: mpmath>=0.19 in /usr/local/lib/python3.10/dist-packages (from sympy->torch>=1.8.0->ultralytics) (1.3.0)\n",
            "Installing collected packages: nvidia-nvtx-cu12, nvidia-nvjitlink-cu12, nvidia-nccl-cu12, nvidia-curand-cu12, nvidia-cufft-cu12, nvidia-cuda-runtime-cu12, nvidia-cuda-nvrtc-cu12, nvidia-cuda-cupti-cu12, nvidia-cublas-cu12, nvidia-cusparse-cu12, nvidia-cudnn-cu12, nvidia-cusolver-cu12, thop, ultralytics\n",
            "Successfully installed nvidia-cublas-cu12-12.1.3.1 nvidia-cuda-cupti-cu12-12.1.105 nvidia-cuda-nvrtc-cu12-12.1.105 nvidia-cuda-runtime-cu12-12.1.105 nvidia-cudnn-cu12-8.9.2.26 nvidia-cufft-cu12-11.0.2.54 nvidia-curand-cu12-10.3.2.106 nvidia-cusolver-cu12-11.4.5.107 nvidia-cusparse-cu12-12.1.0.106 nvidia-nccl-cu12-2.19.3 nvidia-nvjitlink-cu12-12.4.99 nvidia-nvtx-cu12-12.1.105 thop-0.1.1.post2209072238 ultralytics-8.1.29\n"
          ]
        }
      ]
    },
    {
      "cell_type": "code",
      "source": [
        "import os\n",
        "import pandas as pd\n",
        "import cv2\n",
        "from PIL import Image\n",
        "import torch\n",
        "from ultralytics import YOLO\n",
        "from google.colab import output\n",
        "from IPython import display\n",
        "import zipfile\n",
        "from IPython.display import Image as IPImage, display"
      ],
      "metadata": {
        "id": "xPGD45eusaj2"
      },
      "execution_count": 2,
      "outputs": []
    },
    {
      "cell_type": "markdown",
      "source": [
        "# GPU Setup"
      ],
      "metadata": {
        "id": "0pkzgOevhrH_"
      }
    },
    {
      "cell_type": "code",
      "source": [
        "if torch.cuda.is_available():\n",
        "    device = torch.device(\"cuda\")\n",
        "    print('Using GPU:', torch.cuda.get_device_name())\n",
        "else:\n",
        "    device = torch.device(\"cpu\")\n",
        "    print('Using CPU')"
      ],
      "metadata": {
        "colab": {
          "base_uri": "https://localhost:8080/"
        },
        "id": "lWuRvujfsWwH",
        "outputId": "04f4ad00-37c5-48f0-9e13-0c274879e57d"
      },
      "execution_count": 3,
      "outputs": [
        {
          "output_type": "stream",
          "name": "stdout",
          "text": [
            "Using GPU: Tesla T4\n"
          ]
        }
      ]
    },
    {
      "cell_type": "markdown",
      "source": [
        "# Training\n",
        "Skip this part if you already have a trained model. The trained model will be saved in the /content/runs/detect/train2/weights"
      ],
      "metadata": {
        "id": "Hyx_Av_HibBv"
      }
    },
    {
      "cell_type": "markdown",
      "source": [
        "**File setup:**\n",
        "Yolo needs a parallel directory called datasets consisting of subdirectories: train, valid and test, each of which have a subdirectories images and labels. These can downloaded from roboflow and uploaded as a zip file, which will be then processed by the following script. Also make sure to upload your yaml file separately. So upload:\n",
        "\n",
        "1.   datasets.zip containing 3 directories test, train, valid with images labels subdirectories each and the yaml file\n",
        "2.   Separately uploaded yaml file\n"
      ],
      "metadata": {
        "id": "WYQ-SNtkhvJx"
      }
    },
    {
      "cell_type": "code",
      "source": [
        "with zipfile.ZipFile(\"datasets.zip\", 'r') as zip_ref:\n",
        "    zip_ref.extractall()"
      ],
      "metadata": {
        "id": "RjORhf2Q3yEI"
      },
      "execution_count": 4,
      "outputs": []
    },
    {
      "cell_type": "markdown",
      "source": [
        "Here the actual training takes place"
      ],
      "metadata": {
        "id": "psNhUbHk8TJe"
      }
    },
    {
      "cell_type": "code",
      "source": [
        "#load the pretrained model\n",
        "model = YOLO(\"yolov8s.pt\")\n",
        "model.to(device)\n",
        "#train and save the model\n",
        "# consider selecting single_cls=True\n",
        "model.train(data=\"data.yaml\", epochs=20)\n",
        "model.export(format=\"onnx\") # export the model you have trained"
      ],
      "metadata": {
        "id": "qIoMb7HBpbId",
        "colab": {
          "base_uri": "https://localhost:8080/",
          "height": 1000
        },
        "outputId": "90af6079-c1d0-4db6-c358-d26fed2da148"
      },
      "execution_count": 14,
      "outputs": [
        {
          "output_type": "stream",
          "name": "stdout",
          "text": [
            "\u001b[34m\u001b[1mengine/trainer: \u001b[0mtask=detect, mode=train, model=yolov8s.pt, data=data.yaml, epochs=20, time=None, patience=100, batch=16, imgsz=640, save=True, save_period=-1, cache=False, device=cuda:0, workers=8, project=None, name=train4, exist_ok=False, pretrained=True, optimizer=auto, verbose=True, seed=0, deterministic=True, single_cls=False, rect=False, cos_lr=False, close_mosaic=10, resume=False, amp=True, fraction=1.0, profile=False, freeze=None, multi_scale=False, overlap_mask=True, mask_ratio=4, dropout=0.0, val=True, split=val, save_json=False, save_hybrid=False, conf=None, iou=0.7, max_det=300, half=False, dnn=False, plots=True, source=None, vid_stride=1, stream_buffer=False, visualize=False, augment=False, agnostic_nms=False, classes=None, retina_masks=False, embed=None, show=False, save_frames=False, save_txt=False, save_conf=False, save_crop=False, show_labels=True, show_conf=True, show_boxes=True, line_width=None, format=torchscript, keras=False, optimize=False, int8=False, dynamic=False, simplify=False, opset=None, workspace=4, nms=False, lr0=0.01, lrf=0.01, momentum=0.937, weight_decay=0.0005, warmup_epochs=3.0, warmup_momentum=0.8, warmup_bias_lr=0.1, box=7.5, cls=0.5, dfl=1.5, pose=12.0, kobj=1.0, label_smoothing=0.0, nbs=64, hsv_h=0.015, hsv_s=0.7, hsv_v=0.4, degrees=0.0, translate=0.1, scale=0.5, shear=0.0, perspective=0.0, flipud=0.0, fliplr=0.5, mosaic=1.0, mixup=0.0, copy_paste=0.0, auto_augment=randaugment, erasing=0.4, crop_fraction=1.0, cfg=None, tracker=botsort.yaml, save_dir=runs/detect/train4\n",
            "Overriding model.yaml nc=80 with nc=1\n",
            "\n",
            "                   from  n    params  module                                       arguments                     \n",
            "  0                  -1  1       928  ultralytics.nn.modules.conv.Conv             [3, 32, 3, 2]                 \n",
            "  1                  -1  1     18560  ultralytics.nn.modules.conv.Conv             [32, 64, 3, 2]                \n",
            "  2                  -1  1     29056  ultralytics.nn.modules.block.C2f             [64, 64, 1, True]             \n",
            "  3                  -1  1     73984  ultralytics.nn.modules.conv.Conv             [64, 128, 3, 2]               \n",
            "  4                  -1  2    197632  ultralytics.nn.modules.block.C2f             [128, 128, 2, True]           \n",
            "  5                  -1  1    295424  ultralytics.nn.modules.conv.Conv             [128, 256, 3, 2]              \n",
            "  6                  -1  2    788480  ultralytics.nn.modules.block.C2f             [256, 256, 2, True]           \n",
            "  7                  -1  1   1180672  ultralytics.nn.modules.conv.Conv             [256, 512, 3, 2]              \n",
            "  8                  -1  1   1838080  ultralytics.nn.modules.block.C2f             [512, 512, 1, True]           \n",
            "  9                  -1  1    656896  ultralytics.nn.modules.block.SPPF            [512, 512, 5]                 \n",
            " 10                  -1  1         0  torch.nn.modules.upsampling.Upsample         [None, 2, 'nearest']          \n",
            " 11             [-1, 6]  1         0  ultralytics.nn.modules.conv.Concat           [1]                           \n",
            " 12                  -1  1    591360  ultralytics.nn.modules.block.C2f             [768, 256, 1]                 \n",
            " 13                  -1  1         0  torch.nn.modules.upsampling.Upsample         [None, 2, 'nearest']          \n",
            " 14             [-1, 4]  1         0  ultralytics.nn.modules.conv.Concat           [1]                           \n",
            " 15                  -1  1    148224  ultralytics.nn.modules.block.C2f             [384, 128, 1]                 \n",
            " 16                  -1  1    147712  ultralytics.nn.modules.conv.Conv             [128, 128, 3, 2]              \n",
            " 17            [-1, 12]  1         0  ultralytics.nn.modules.conv.Concat           [1]                           \n",
            " 18                  -1  1    493056  ultralytics.nn.modules.block.C2f             [384, 256, 1]                 \n",
            " 19                  -1  1    590336  ultralytics.nn.modules.conv.Conv             [256, 256, 3, 2]              \n",
            " 20             [-1, 9]  1         0  ultralytics.nn.modules.conv.Concat           [1]                           \n",
            " 21                  -1  1   1969152  ultralytics.nn.modules.block.C2f             [768, 512, 1]                 \n",
            " 22        [15, 18, 21]  1   2116435  ultralytics.nn.modules.head.Detect           [1, [128, 256, 512]]          \n",
            "Model summary: 225 layers, 11135987 parameters, 11135971 gradients, 28.6 GFLOPs\n",
            "\n",
            "Transferred 349/355 items from pretrained weights\n",
            "\u001b[34m\u001b[1mTensorBoard: \u001b[0mStart with 'tensorboard --logdir runs/detect/train4', view at http://localhost:6006/\n",
            "Freezing layer 'model.22.dfl.conv.weight'\n",
            "\u001b[34m\u001b[1mAMP: \u001b[0mrunning Automatic Mixed Precision (AMP) checks with YOLOv8n...\n",
            "\u001b[34m\u001b[1mAMP: \u001b[0mchecks passed ✅\n"
          ]
        },
        {
          "output_type": "stream",
          "name": "stderr",
          "text": [
            "\u001b[34m\u001b[1mtrain: \u001b[0mScanning /content/datasets/train/labels.cache... 946 images, 1 backgrounds, 0 corrupt: 100%|██████████| 946/946 [00:00<?, ?it/s]"
          ]
        },
        {
          "output_type": "stream",
          "name": "stdout",
          "text": [
            "\u001b[34m\u001b[1malbumentations: \u001b[0mBlur(p=0.01, blur_limit=(3, 7)), MedianBlur(p=0.01, blur_limit=(3, 7)), ToGray(p=0.01), CLAHE(p=0.01, clip_limit=(1, 4.0), tile_grid_size=(8, 8))\n"
          ]
        },
        {
          "output_type": "stream",
          "name": "stderr",
          "text": [
            "\n",
            "\u001b[34m\u001b[1mval: \u001b[0mScanning /content/datasets/valid/labels.cache... 71 images, 0 backgrounds, 0 corrupt: 100%|██████████| 71/71 [00:00<?, ?it/s]\n"
          ]
        },
        {
          "output_type": "stream",
          "name": "stdout",
          "text": [
            "Plotting labels to runs/detect/train4/labels.jpg... \n",
            "\u001b[34m\u001b[1moptimizer:\u001b[0m 'optimizer=auto' found, ignoring 'lr0=0.01' and 'momentum=0.937' and determining best 'optimizer', 'lr0' and 'momentum' automatically... \n",
            "\u001b[34m\u001b[1moptimizer:\u001b[0m AdamW(lr=0.002, momentum=0.9) with parameter groups 57 weight(decay=0.0), 64 weight(decay=0.0005), 63 bias(decay=0.0)\n",
            "\u001b[34m\u001b[1mTensorBoard: \u001b[0mmodel graph visualization added ✅\n",
            "Image sizes 640 train, 640 val\n",
            "Using 2 dataloader workers\n",
            "Logging results to \u001b[1mruns/detect/train4\u001b[0m\n",
            "Starting training for 20 epochs...\n",
            "\n",
            "      Epoch    GPU_mem   box_loss   cls_loss   dfl_loss  Instances       Size\n"
          ]
        },
        {
          "output_type": "stream",
          "name": "stderr",
          "text": [
            "       1/20      6.85G      1.824      2.738      1.564          6        640: 100%|██████████| 60/60 [00:25<00:00,  2.33it/s]\n",
            "                 Class     Images  Instances      Box(P          R      mAP50  mAP50-95): 100%|██████████| 3/3 [00:01<00:00,  2.89it/s]"
          ]
        },
        {
          "output_type": "stream",
          "name": "stdout",
          "text": [
            "                   all         71        209      0.468      0.462      0.424      0.222\n"
          ]
        },
        {
          "output_type": "stream",
          "name": "stderr",
          "text": [
            "\n"
          ]
        },
        {
          "output_type": "stream",
          "name": "stdout",
          "text": [
            "\n",
            "      Epoch    GPU_mem   box_loss   cls_loss   dfl_loss  Instances       Size\n"
          ]
        },
        {
          "output_type": "stream",
          "name": "stderr",
          "text": [
            "       2/20      4.68G      1.812      1.822      1.593         18        640: 100%|██████████| 60/60 [00:22<00:00,  2.63it/s]\n",
            "                 Class     Images  Instances      Box(P          R      mAP50  mAP50-95): 100%|██████████| 3/3 [00:01<00:00,  2.33it/s]"
          ]
        },
        {
          "output_type": "stream",
          "name": "stdout",
          "text": [
            "                   all         71        209      0.439      0.354      0.276      0.104\n"
          ]
        },
        {
          "output_type": "stream",
          "name": "stderr",
          "text": [
            "\n"
          ]
        },
        {
          "output_type": "stream",
          "name": "stdout",
          "text": [
            "\n",
            "      Epoch    GPU_mem   box_loss   cls_loss   dfl_loss  Instances       Size\n"
          ]
        },
        {
          "output_type": "stream",
          "name": "stderr",
          "text": [
            "       3/20      4.68G      1.872      1.914      1.633          3        640: 100%|██████████| 60/60 [00:22<00:00,  2.62it/s]\n",
            "                 Class     Images  Instances      Box(P          R      mAP50  mAP50-95): 100%|██████████| 3/3 [00:00<00:00,  3.46it/s]"
          ]
        },
        {
          "output_type": "stream",
          "name": "stdout",
          "text": [
            "                   all         71        209      0.247      0.416      0.227      0.097\n"
          ]
        },
        {
          "output_type": "stream",
          "name": "stderr",
          "text": [
            "\n"
          ]
        },
        {
          "output_type": "stream",
          "name": "stdout",
          "text": [
            "\n",
            "      Epoch    GPU_mem   box_loss   cls_loss   dfl_loss  Instances       Size\n"
          ]
        },
        {
          "output_type": "stream",
          "name": "stderr",
          "text": [
            "       4/20      4.53G      1.858      1.778      1.606          4        640: 100%|██████████| 60/60 [00:22<00:00,  2.61it/s]\n",
            "                 Class     Images  Instances      Box(P          R      mAP50  mAP50-95): 100%|██████████| 3/3 [00:00<00:00,  3.28it/s]"
          ]
        },
        {
          "output_type": "stream",
          "name": "stdout",
          "text": [
            "                   all         71        209      0.469      0.483       0.45      0.233\n"
          ]
        },
        {
          "output_type": "stream",
          "name": "stderr",
          "text": [
            "\n"
          ]
        },
        {
          "output_type": "stream",
          "name": "stdout",
          "text": [
            "\n",
            "      Epoch    GPU_mem   box_loss   cls_loss   dfl_loss  Instances       Size\n"
          ]
        },
        {
          "output_type": "stream",
          "name": "stderr",
          "text": [
            "       5/20      4.58G      1.831      1.709      1.584         11        640: 100%|██████████| 60/60 [00:23<00:00,  2.52it/s]\n",
            "                 Class     Images  Instances      Box(P          R      mAP50  mAP50-95): 100%|██████████| 3/3 [00:01<00:00,  2.82it/s]\n"
          ]
        },
        {
          "output_type": "stream",
          "name": "stdout",
          "text": [
            "                   all         71        209      0.512      0.478       0.46      0.215\n",
            "\n",
            "      Epoch    GPU_mem   box_loss   cls_loss   dfl_loss  Instances       Size\n"
          ]
        },
        {
          "output_type": "stream",
          "name": "stderr",
          "text": [
            "       6/20      4.54G      1.745      1.586      1.517         10        640: 100%|██████████| 60/60 [00:22<00:00,  2.67it/s]\n",
            "                 Class     Images  Instances      Box(P          R      mAP50  mAP50-95): 100%|██████████| 3/3 [00:01<00:00,  2.96it/s]"
          ]
        },
        {
          "output_type": "stream",
          "name": "stdout",
          "text": [
            "                   all         71        209      0.733      0.473      0.613       0.33\n"
          ]
        },
        {
          "output_type": "stream",
          "name": "stderr",
          "text": [
            "\n"
          ]
        },
        {
          "output_type": "stream",
          "name": "stdout",
          "text": [
            "\n",
            "      Epoch    GPU_mem   box_loss   cls_loss   dfl_loss  Instances       Size\n"
          ]
        },
        {
          "output_type": "stream",
          "name": "stderr",
          "text": [
            "       7/20      4.59G      1.775      1.627      1.546          5        640: 100%|██████████| 60/60 [00:22<00:00,  2.72it/s]\n",
            "                 Class     Images  Instances      Box(P          R      mAP50  mAP50-95): 100%|██████████| 3/3 [00:01<00:00,  1.80it/s]"
          ]
        },
        {
          "output_type": "stream",
          "name": "stdout",
          "text": [
            "                   all         71        209      0.616      0.584       0.62      0.325\n"
          ]
        },
        {
          "output_type": "stream",
          "name": "stderr",
          "text": [
            "\n"
          ]
        },
        {
          "output_type": "stream",
          "name": "stdout",
          "text": [
            "\n",
            "      Epoch    GPU_mem   box_loss   cls_loss   dfl_loss  Instances       Size\n"
          ]
        },
        {
          "output_type": "stream",
          "name": "stderr",
          "text": [
            "       8/20      4.53G      1.682      1.489       1.48         13        640: 100%|██████████| 60/60 [00:21<00:00,  2.75it/s]\n",
            "                 Class     Images  Instances      Box(P          R      mAP50  mAP50-95): 100%|██████████| 3/3 [00:01<00:00,  2.46it/s]"
          ]
        },
        {
          "output_type": "stream",
          "name": "stdout",
          "text": [
            "                   all         71        209      0.652      0.654      0.691      0.391\n"
          ]
        },
        {
          "output_type": "stream",
          "name": "stderr",
          "text": [
            "\n"
          ]
        },
        {
          "output_type": "stream",
          "name": "stdout",
          "text": [
            "\n",
            "      Epoch    GPU_mem   box_loss   cls_loss   dfl_loss  Instances       Size\n"
          ]
        },
        {
          "output_type": "stream",
          "name": "stderr",
          "text": [
            "       9/20      4.53G      1.657      1.452      1.454          6        640: 100%|██████████| 60/60 [00:22<00:00,  2.69it/s]\n",
            "                 Class     Images  Instances      Box(P          R      mAP50  mAP50-95): 100%|██████████| 3/3 [00:00<00:00,  3.42it/s]"
          ]
        },
        {
          "output_type": "stream",
          "name": "stdout",
          "text": [
            "                   all         71        209      0.611      0.622      0.646      0.332\n"
          ]
        },
        {
          "output_type": "stream",
          "name": "stderr",
          "text": [
            "\n"
          ]
        },
        {
          "output_type": "stream",
          "name": "stdout",
          "text": [
            "\n",
            "      Epoch    GPU_mem   box_loss   cls_loss   dfl_loss  Instances       Size\n"
          ]
        },
        {
          "output_type": "stream",
          "name": "stderr",
          "text": [
            "      10/20      4.42G      1.667      1.458      1.456          8        640: 100%|██████████| 60/60 [00:22<00:00,  2.68it/s]\n",
            "                 Class     Images  Instances      Box(P          R      mAP50  mAP50-95): 100%|██████████| 3/3 [00:01<00:00,  2.98it/s]"
          ]
        },
        {
          "output_type": "stream",
          "name": "stdout",
          "text": [
            "                   all         71        209      0.675      0.684      0.709      0.403\n"
          ]
        },
        {
          "output_type": "stream",
          "name": "stderr",
          "text": [
            "\n"
          ]
        },
        {
          "output_type": "stream",
          "name": "stdout",
          "text": [
            "Closing dataloader mosaic\n",
            "\u001b[34m\u001b[1malbumentations: \u001b[0mBlur(p=0.01, blur_limit=(3, 7)), MedianBlur(p=0.01, blur_limit=(3, 7)), ToGray(p=0.01), CLAHE(p=0.01, clip_limit=(1, 4.0), tile_grid_size=(8, 8))\n",
            "\n",
            "      Epoch    GPU_mem   box_loss   cls_loss   dfl_loss  Instances       Size\n"
          ]
        },
        {
          "output_type": "stream",
          "name": "stderr",
          "text": [
            "      11/20      4.37G      1.671      1.479      1.471          4        640: 100%|██████████| 60/60 [00:23<00:00,  2.51it/s]\n",
            "                 Class     Images  Instances      Box(P          R      mAP50  mAP50-95): 100%|██████████| 3/3 [00:01<00:00,  2.70it/s]"
          ]
        },
        {
          "output_type": "stream",
          "name": "stdout",
          "text": [
            "                   all         71        209      0.735      0.689      0.754      0.421\n"
          ]
        },
        {
          "output_type": "stream",
          "name": "stderr",
          "text": [
            "\n"
          ]
        },
        {
          "output_type": "stream",
          "name": "stdout",
          "text": [
            "\n",
            "      Epoch    GPU_mem   box_loss   cls_loss   dfl_loss  Instances       Size\n"
          ]
        },
        {
          "output_type": "stream",
          "name": "stderr",
          "text": [
            "      12/20      4.36G      1.597      1.387      1.424          2        640: 100%|██████████| 60/60 [00:21<00:00,  2.86it/s]\n",
            "                 Class     Images  Instances      Box(P          R      mAP50  mAP50-95): 100%|██████████| 3/3 [00:00<00:00,  3.35it/s]"
          ]
        },
        {
          "output_type": "stream",
          "name": "stdout",
          "text": [
            "                   all         71        209      0.731      0.663      0.755      0.456\n"
          ]
        },
        {
          "output_type": "stream",
          "name": "stderr",
          "text": [
            "\n"
          ]
        },
        {
          "output_type": "stream",
          "name": "stdout",
          "text": [
            "\n",
            "      Epoch    GPU_mem   box_loss   cls_loss   dfl_loss  Instances       Size\n"
          ]
        },
        {
          "output_type": "stream",
          "name": "stderr",
          "text": [
            "      13/20      4.39G      1.608       1.37      1.454          3        640: 100%|██████████| 60/60 [00:22<00:00,  2.65it/s]\n",
            "                 Class     Images  Instances      Box(P          R      mAP50  mAP50-95): 100%|██████████| 3/3 [00:00<00:00,  3.09it/s]"
          ]
        },
        {
          "output_type": "stream",
          "name": "stdout",
          "text": [
            "                   all         71        209      0.715       0.67       0.75       0.45\n"
          ]
        },
        {
          "output_type": "stream",
          "name": "stderr",
          "text": [
            "\n"
          ]
        },
        {
          "output_type": "stream",
          "name": "stdout",
          "text": [
            "\n",
            "      Epoch    GPU_mem   box_loss   cls_loss   dfl_loss  Instances       Size\n"
          ]
        },
        {
          "output_type": "stream",
          "name": "stderr",
          "text": [
            "      14/20      4.39G       1.55      1.283      1.391          3        640: 100%|██████████| 60/60 [00:21<00:00,  2.76it/s]\n",
            "                 Class     Images  Instances      Box(P          R      mAP50  mAP50-95): 100%|██████████| 3/3 [00:00<00:00,  3.45it/s]"
          ]
        },
        {
          "output_type": "stream",
          "name": "stdout",
          "text": [
            "                   all         71        209      0.783      0.732      0.802      0.483\n"
          ]
        },
        {
          "output_type": "stream",
          "name": "stderr",
          "text": [
            "\n"
          ]
        },
        {
          "output_type": "stream",
          "name": "stdout",
          "text": [
            "\n",
            "      Epoch    GPU_mem   box_loss   cls_loss   dfl_loss  Instances       Size\n"
          ]
        },
        {
          "output_type": "stream",
          "name": "stderr",
          "text": [
            "      15/20      4.36G      1.505      1.221      1.365          2        640: 100%|██████████| 60/60 [00:21<00:00,  2.79it/s]\n",
            "                 Class     Images  Instances      Box(P          R      mAP50  mAP50-95): 100%|██████████| 3/3 [00:00<00:00,  3.08it/s]"
          ]
        },
        {
          "output_type": "stream",
          "name": "stdout",
          "text": [
            "                   all         71        209      0.801      0.746      0.836      0.525\n"
          ]
        },
        {
          "output_type": "stream",
          "name": "stderr",
          "text": [
            "\n"
          ]
        },
        {
          "output_type": "stream",
          "name": "stdout",
          "text": [
            "\n",
            "      Epoch    GPU_mem   box_loss   cls_loss   dfl_loss  Instances       Size\n"
          ]
        },
        {
          "output_type": "stream",
          "name": "stderr",
          "text": [
            "      16/20      4.39G      1.498      1.234      1.362          2        640: 100%|██████████| 60/60 [00:21<00:00,  2.85it/s]\n",
            "                 Class     Images  Instances      Box(P          R      mAP50  mAP50-95): 100%|██████████| 3/3 [00:01<00:00,  2.00it/s]"
          ]
        },
        {
          "output_type": "stream",
          "name": "stdout",
          "text": [
            "                   all         71        209      0.834      0.699      0.826      0.516\n"
          ]
        },
        {
          "output_type": "stream",
          "name": "stderr",
          "text": [
            "\n"
          ]
        },
        {
          "output_type": "stream",
          "name": "stdout",
          "text": [
            "\n",
            "      Epoch    GPU_mem   box_loss   cls_loss   dfl_loss  Instances       Size\n"
          ]
        },
        {
          "output_type": "stream",
          "name": "stderr",
          "text": [
            "      17/20      4.47G      1.468      1.149       1.37          2        640: 100%|██████████| 60/60 [00:20<00:00,  2.92it/s]\n",
            "                 Class     Images  Instances      Box(P          R      mAP50  mAP50-95): 100%|██████████| 3/3 [00:00<00:00,  4.10it/s]"
          ]
        },
        {
          "output_type": "stream",
          "name": "stdout",
          "text": [
            "                   all         71        209      0.865       0.77      0.879      0.577\n"
          ]
        },
        {
          "output_type": "stream",
          "name": "stderr",
          "text": [
            "\n"
          ]
        },
        {
          "output_type": "stream",
          "name": "stdout",
          "text": [
            "\n",
            "      Epoch    GPU_mem   box_loss   cls_loss   dfl_loss  Instances       Size\n"
          ]
        },
        {
          "output_type": "stream",
          "name": "stderr",
          "text": [
            "      18/20      4.39G      1.409      1.081      1.318          2        640: 100%|██████████| 60/60 [00:21<00:00,  2.79it/s]\n",
            "                 Class     Images  Instances      Box(P          R      mAP50  mAP50-95): 100%|██████████| 3/3 [00:00<00:00,  3.80it/s]"
          ]
        },
        {
          "output_type": "stream",
          "name": "stdout",
          "text": [
            "                   all         71        209      0.899      0.767      0.884      0.586\n"
          ]
        },
        {
          "output_type": "stream",
          "name": "stderr",
          "text": [
            "\n"
          ]
        },
        {
          "output_type": "stream",
          "name": "stdout",
          "text": [
            "\n",
            "      Epoch    GPU_mem   box_loss   cls_loss   dfl_loss  Instances       Size\n"
          ]
        },
        {
          "output_type": "stream",
          "name": "stderr",
          "text": [
            "      19/20      4.39G      1.394      1.017      1.292          4        640: 100%|██████████| 60/60 [00:21<00:00,  2.80it/s]\n",
            "                 Class     Images  Instances      Box(P          R      mAP50  mAP50-95): 100%|██████████| 3/3 [00:00<00:00,  3.16it/s]"
          ]
        },
        {
          "output_type": "stream",
          "name": "stdout",
          "text": [
            "                   all         71        209      0.818      0.833      0.905      0.625\n"
          ]
        },
        {
          "output_type": "stream",
          "name": "stderr",
          "text": [
            "\n"
          ]
        },
        {
          "output_type": "stream",
          "name": "stdout",
          "text": [
            "\n",
            "      Epoch    GPU_mem   box_loss   cls_loss   dfl_loss  Instances       Size\n"
          ]
        },
        {
          "output_type": "stream",
          "name": "stderr",
          "text": [
            "      20/20      4.39G      1.378     0.9901      1.272          3        640: 100%|██████████| 60/60 [00:21<00:00,  2.74it/s]\n",
            "                 Class     Images  Instances      Box(P          R      mAP50  mAP50-95): 100%|██████████| 3/3 [00:00<00:00,  3.78it/s]"
          ]
        },
        {
          "output_type": "stream",
          "name": "stdout",
          "text": [
            "                   all         71        209      0.796      0.842      0.903      0.617\n"
          ]
        },
        {
          "output_type": "stream",
          "name": "stderr",
          "text": [
            "\n"
          ]
        },
        {
          "output_type": "stream",
          "name": "stdout",
          "text": [
            "\n",
            "20 epochs completed in 0.138 hours.\n",
            "Optimizer stripped from runs/detect/train4/weights/last.pt, 22.5MB\n",
            "Optimizer stripped from runs/detect/train4/weights/best.pt, 22.5MB\n",
            "\n",
            "Validating runs/detect/train4/weights/best.pt...\n",
            "Ultralytics YOLOv8.1.29 🚀 Python-3.10.12 torch-2.2.1+cu121 CUDA:0 (Tesla T4, 15102MiB)\n",
            "Model summary (fused): 168 layers, 11125971 parameters, 0 gradients, 28.4 GFLOPs\n"
          ]
        },
        {
          "output_type": "stream",
          "name": "stderr",
          "text": [
            "                 Class     Images  Instances      Box(P          R      mAP50  mAP50-95): 100%|██████████| 3/3 [00:01<00:00,  1.88it/s]\n"
          ]
        },
        {
          "output_type": "stream",
          "name": "stdout",
          "text": [
            "                   all         71        209      0.817      0.833      0.904      0.624\n",
            "Speed: 1.3ms preprocess, 4.3ms inference, 0.0ms loss, 1.7ms postprocess per image\n",
            "Results saved to \u001b[1mruns/detect/train4\u001b[0m\n",
            "Ultralytics YOLOv8.1.29 🚀 Python-3.10.12 torch-2.2.1+cu121 CUDA:0 (Tesla T4, 15102MiB)\n",
            "Model summary (fused): 168 layers, 11125971 parameters, 0 gradients, 28.4 GFLOPs\n",
            "\n",
            "\u001b[34m\u001b[1mPyTorch:\u001b[0m starting from 'runs/detect/train4/weights/best.pt' with input shape (1, 3, 640, 640) BCHW and output shape(s) (1, 5, 8400) (21.5 MB)\n",
            "\n",
            "\u001b[34m\u001b[1mONNX:\u001b[0m starting export with onnx 1.15.0 opset 17...\n",
            "\u001b[34m\u001b[1mONNX:\u001b[0m export success ✅ 1.2s, saved as 'runs/detect/train4/weights/best.onnx' (42.6 MB)\n",
            "\n",
            "Export complete (1.5s)\n",
            "Results saved to \u001b[1m/content/runs/detect/train4/weights\u001b[0m\n",
            "Predict:         yolo predict task=detect model=runs/detect/train4/weights/best.onnx imgsz=640  \n",
            "Validate:        yolo val task=detect model=runs/detect/train4/weights/best.onnx imgsz=640 data=data.yaml  \n",
            "Visualize:       https://netron.app\n"
          ]
        },
        {
          "output_type": "execute_result",
          "data": {
            "text/plain": [
              "'runs/detect/train4/weights/best.onnx'"
            ],
            "application/vnd.google.colaboratory.intrinsic+json": {
              "type": "string"
            }
          },
          "metadata": {},
          "execution_count": 14
        }
      ]
    },
    {
      "cell_type": "markdown",
      "source": [
        "# Single Image Testing"
      ],
      "metadata": {
        "id": "kxEYgqbhqmkz"
      }
    },
    {
      "cell_type": "markdown",
      "source": [
        "Upload the image to run the model on and fill in the path to the image"
      ],
      "metadata": {
        "id": "Tu6FoAsnsRlK"
      }
    },
    {
      "cell_type": "code",
      "source": [
        "#PARAMS preferably save them in the main directory on colab\n",
        "pt_file = \"\\best.pt\"\n",
        "image = 'pothole_69_png.rf.b7d93ad3f878bcc1db21c1232e03ef82.jpg'\n",
        "min_confidence = 0.6\n",
        "\n",
        "#Test\n",
        "model=YOLO(pt_file)\n",
        "model.to(device)\n",
        "result = model(source=image,save=True,save_txt=True,save_conf=True,conf=min_confidence)"
      ],
      "metadata": {
        "colab": {
          "base_uri": "https://localhost:8080/",
          "height": 356
        },
        "id": "YiLCyzOnhSJ9",
        "outputId": "a28a7c22-1f98-443e-998c-7a3a429f2ec5"
      },
      "execution_count": null,
      "outputs": [
        {
          "output_type": "error",
          "ename": "FileNotFoundError",
          "evalue": "[Errno 2] No such file or directory: '\\x08est.pt'",
          "traceback": [
            "\u001b[0;31m---------------------------------------------------------------------------\u001b[0m",
            "\u001b[0;31mFileNotFoundError\u001b[0m                         Traceback (most recent call last)",
            "\u001b[0;32m<ipython-input-21-a942b79545b4>\u001b[0m in \u001b[0;36m<cell line: 7>\u001b[0;34m()\u001b[0m\n\u001b[1;32m      5\u001b[0m \u001b[0;34m\u001b[0m\u001b[0m\n\u001b[1;32m      6\u001b[0m \u001b[0;31m#Test\u001b[0m\u001b[0;34m\u001b[0m\u001b[0;34m\u001b[0m\u001b[0m\n\u001b[0;32m----> 7\u001b[0;31m \u001b[0mmodel\u001b[0m\u001b[0;34m=\u001b[0m\u001b[0mYOLO\u001b[0m\u001b[0;34m(\u001b[0m\u001b[0mpt_file\u001b[0m\u001b[0;34m)\u001b[0m\u001b[0;34m\u001b[0m\u001b[0;34m\u001b[0m\u001b[0m\n\u001b[0m\u001b[1;32m      8\u001b[0m \u001b[0mmodel\u001b[0m\u001b[0;34m.\u001b[0m\u001b[0mto\u001b[0m\u001b[0;34m(\u001b[0m\u001b[0mdevice\u001b[0m\u001b[0;34m)\u001b[0m\u001b[0;34m\u001b[0m\u001b[0;34m\u001b[0m\u001b[0m\n\u001b[1;32m      9\u001b[0m \u001b[0mresult\u001b[0m \u001b[0;34m=\u001b[0m \u001b[0mmodel\u001b[0m\u001b[0;34m(\u001b[0m\u001b[0msource\u001b[0m\u001b[0;34m=\u001b[0m\u001b[0mimage\u001b[0m\u001b[0;34m,\u001b[0m\u001b[0msave\u001b[0m\u001b[0;34m=\u001b[0m\u001b[0;32mTrue\u001b[0m\u001b[0;34m,\u001b[0m\u001b[0msave_txt\u001b[0m\u001b[0;34m=\u001b[0m\u001b[0;32mTrue\u001b[0m\u001b[0;34m,\u001b[0m\u001b[0msave_conf\u001b[0m\u001b[0;34m=\u001b[0m\u001b[0;32mTrue\u001b[0m\u001b[0;34m,\u001b[0m\u001b[0mconf\u001b[0m\u001b[0;34m=\u001b[0m\u001b[0mmin_confidence\u001b[0m\u001b[0;34m)\u001b[0m\u001b[0;34m\u001b[0m\u001b[0;34m\u001b[0m\u001b[0m\n",
            "\u001b[0;32m/usr/local/lib/python3.10/dist-packages/ultralytics/models/yolo/model.py\u001b[0m in \u001b[0;36m__init__\u001b[0;34m(self, model, task, verbose)\u001b[0m\n\u001b[1;32m     21\u001b[0m         \u001b[0;32melse\u001b[0m\u001b[0;34m:\u001b[0m\u001b[0;34m\u001b[0m\u001b[0;34m\u001b[0m\u001b[0m\n\u001b[1;32m     22\u001b[0m             \u001b[0;31m# Continue with default YOLO initialization\u001b[0m\u001b[0;34m\u001b[0m\u001b[0;34m\u001b[0m\u001b[0m\n\u001b[0;32m---> 23\u001b[0;31m             \u001b[0msuper\u001b[0m\u001b[0;34m(\u001b[0m\u001b[0;34m)\u001b[0m\u001b[0;34m.\u001b[0m\u001b[0m__init__\u001b[0m\u001b[0;34m(\u001b[0m\u001b[0mmodel\u001b[0m\u001b[0;34m=\u001b[0m\u001b[0mmodel\u001b[0m\u001b[0;34m,\u001b[0m \u001b[0mtask\u001b[0m\u001b[0;34m=\u001b[0m\u001b[0mtask\u001b[0m\u001b[0;34m,\u001b[0m \u001b[0mverbose\u001b[0m\u001b[0;34m=\u001b[0m\u001b[0mverbose\u001b[0m\u001b[0;34m)\u001b[0m\u001b[0;34m\u001b[0m\u001b[0;34m\u001b[0m\u001b[0m\n\u001b[0m\u001b[1;32m     24\u001b[0m \u001b[0;34m\u001b[0m\u001b[0m\n\u001b[1;32m     25\u001b[0m     \u001b[0;34m@\u001b[0m\u001b[0mproperty\u001b[0m\u001b[0;34m\u001b[0m\u001b[0;34m\u001b[0m\u001b[0m\n",
            "\u001b[0;32m/usr/local/lib/python3.10/dist-packages/ultralytics/engine/model.py\u001b[0m in \u001b[0;36m__init__\u001b[0;34m(self, model, task, verbose)\u001b[0m\n\u001b[1;32m    140\u001b[0m             \u001b[0mself\u001b[0m\u001b[0;34m.\u001b[0m\u001b[0m_new\u001b[0m\u001b[0;34m(\u001b[0m\u001b[0mmodel\u001b[0m\u001b[0;34m,\u001b[0m \u001b[0mtask\u001b[0m\u001b[0;34m=\u001b[0m\u001b[0mtask\u001b[0m\u001b[0;34m,\u001b[0m \u001b[0mverbose\u001b[0m\u001b[0;34m=\u001b[0m\u001b[0mverbose\u001b[0m\u001b[0;34m)\u001b[0m\u001b[0;34m\u001b[0m\u001b[0;34m\u001b[0m\u001b[0m\n\u001b[1;32m    141\u001b[0m         \u001b[0;32melse\u001b[0m\u001b[0;34m:\u001b[0m\u001b[0;34m\u001b[0m\u001b[0;34m\u001b[0m\u001b[0m\n\u001b[0;32m--> 142\u001b[0;31m             \u001b[0mself\u001b[0m\u001b[0;34m.\u001b[0m\u001b[0m_load\u001b[0m\u001b[0;34m(\u001b[0m\u001b[0mmodel\u001b[0m\u001b[0;34m,\u001b[0m \u001b[0mtask\u001b[0m\u001b[0;34m=\u001b[0m\u001b[0mtask\u001b[0m\u001b[0;34m)\u001b[0m\u001b[0;34m\u001b[0m\u001b[0;34m\u001b[0m\u001b[0m\n\u001b[0m\u001b[1;32m    143\u001b[0m \u001b[0;34m\u001b[0m\u001b[0m\n\u001b[1;32m    144\u001b[0m         \u001b[0mself\u001b[0m\u001b[0;34m.\u001b[0m\u001b[0mmodel_name\u001b[0m \u001b[0;34m=\u001b[0m \u001b[0mmodel\u001b[0m\u001b[0;34m\u001b[0m\u001b[0;34m\u001b[0m\u001b[0m\n",
            "\u001b[0;32m/usr/local/lib/python3.10/dist-packages/ultralytics/engine/model.py\u001b[0m in \u001b[0;36m_load\u001b[0;34m(self, weights, task)\u001b[0m\n\u001b[1;32m    227\u001b[0m         \u001b[0msuffix\u001b[0m \u001b[0;34m=\u001b[0m \u001b[0mPath\u001b[0m\u001b[0;34m(\u001b[0m\u001b[0mweights\u001b[0m\u001b[0;34m)\u001b[0m\u001b[0;34m.\u001b[0m\u001b[0msuffix\u001b[0m\u001b[0;34m\u001b[0m\u001b[0;34m\u001b[0m\u001b[0m\n\u001b[1;32m    228\u001b[0m         \u001b[0;32mif\u001b[0m \u001b[0msuffix\u001b[0m \u001b[0;34m==\u001b[0m \u001b[0;34m\".pt\"\u001b[0m\u001b[0;34m:\u001b[0m\u001b[0;34m\u001b[0m\u001b[0;34m\u001b[0m\u001b[0m\n\u001b[0;32m--> 229\u001b[0;31m             \u001b[0mself\u001b[0m\u001b[0;34m.\u001b[0m\u001b[0mmodel\u001b[0m\u001b[0;34m,\u001b[0m \u001b[0mself\u001b[0m\u001b[0;34m.\u001b[0m\u001b[0mckpt\u001b[0m \u001b[0;34m=\u001b[0m \u001b[0mattempt_load_one_weight\u001b[0m\u001b[0;34m(\u001b[0m\u001b[0mweights\u001b[0m\u001b[0;34m)\u001b[0m\u001b[0;34m\u001b[0m\u001b[0;34m\u001b[0m\u001b[0m\n\u001b[0m\u001b[1;32m    230\u001b[0m             \u001b[0mself\u001b[0m\u001b[0;34m.\u001b[0m\u001b[0mtask\u001b[0m \u001b[0;34m=\u001b[0m \u001b[0mself\u001b[0m\u001b[0;34m.\u001b[0m\u001b[0mmodel\u001b[0m\u001b[0;34m.\u001b[0m\u001b[0margs\u001b[0m\u001b[0;34m[\u001b[0m\u001b[0;34m\"task\"\u001b[0m\u001b[0;34m]\u001b[0m\u001b[0;34m\u001b[0m\u001b[0;34m\u001b[0m\u001b[0m\n\u001b[1;32m    231\u001b[0m             \u001b[0mself\u001b[0m\u001b[0;34m.\u001b[0m\u001b[0moverrides\u001b[0m \u001b[0;34m=\u001b[0m \u001b[0mself\u001b[0m\u001b[0;34m.\u001b[0m\u001b[0mmodel\u001b[0m\u001b[0;34m.\u001b[0m\u001b[0margs\u001b[0m \u001b[0;34m=\u001b[0m \u001b[0mself\u001b[0m\u001b[0;34m.\u001b[0m\u001b[0m_reset_ckpt_args\u001b[0m\u001b[0;34m(\u001b[0m\u001b[0mself\u001b[0m\u001b[0;34m.\u001b[0m\u001b[0mmodel\u001b[0m\u001b[0;34m.\u001b[0m\u001b[0margs\u001b[0m\u001b[0;34m)\u001b[0m\u001b[0;34m\u001b[0m\u001b[0;34m\u001b[0m\u001b[0m\n",
            "\u001b[0;32m/usr/local/lib/python3.10/dist-packages/ultralytics/nn/tasks.py\u001b[0m in \u001b[0;36mattempt_load_one_weight\u001b[0;34m(weight, device, inplace, fuse)\u001b[0m\n\u001b[1;32m    786\u001b[0m \u001b[0;32mdef\u001b[0m \u001b[0mattempt_load_one_weight\u001b[0m\u001b[0;34m(\u001b[0m\u001b[0mweight\u001b[0m\u001b[0;34m,\u001b[0m \u001b[0mdevice\u001b[0m\u001b[0;34m=\u001b[0m\u001b[0;32mNone\u001b[0m\u001b[0;34m,\u001b[0m \u001b[0minplace\u001b[0m\u001b[0;34m=\u001b[0m\u001b[0;32mTrue\u001b[0m\u001b[0;34m,\u001b[0m \u001b[0mfuse\u001b[0m\u001b[0;34m=\u001b[0m\u001b[0;32mFalse\u001b[0m\u001b[0;34m)\u001b[0m\u001b[0;34m:\u001b[0m\u001b[0;34m\u001b[0m\u001b[0;34m\u001b[0m\u001b[0m\n\u001b[1;32m    787\u001b[0m     \u001b[0;34m\"\"\"Loads a single model weights.\"\"\"\u001b[0m\u001b[0;34m\u001b[0m\u001b[0;34m\u001b[0m\u001b[0m\n\u001b[0;32m--> 788\u001b[0;31m     \u001b[0mckpt\u001b[0m\u001b[0;34m,\u001b[0m \u001b[0mweight\u001b[0m \u001b[0;34m=\u001b[0m \u001b[0mtorch_safe_load\u001b[0m\u001b[0;34m(\u001b[0m\u001b[0mweight\u001b[0m\u001b[0;34m)\u001b[0m  \u001b[0;31m# load ckpt\u001b[0m\u001b[0;34m\u001b[0m\u001b[0;34m\u001b[0m\u001b[0m\n\u001b[0m\u001b[1;32m    789\u001b[0m     \u001b[0margs\u001b[0m \u001b[0;34m=\u001b[0m \u001b[0;34m{\u001b[0m\u001b[0;34m**\u001b[0m\u001b[0mDEFAULT_CFG_DICT\u001b[0m\u001b[0;34m,\u001b[0m \u001b[0;34m**\u001b[0m\u001b[0;34m(\u001b[0m\u001b[0mckpt\u001b[0m\u001b[0;34m.\u001b[0m\u001b[0mget\u001b[0m\u001b[0;34m(\u001b[0m\u001b[0;34m\"train_args\"\u001b[0m\u001b[0;34m,\u001b[0m \u001b[0;34m{\u001b[0m\u001b[0;34m}\u001b[0m\u001b[0;34m)\u001b[0m\u001b[0;34m)\u001b[0m\u001b[0;34m}\u001b[0m  \u001b[0;31m# combine model and default args, preferring model args\u001b[0m\u001b[0;34m\u001b[0m\u001b[0;34m\u001b[0m\u001b[0m\n\u001b[1;32m    790\u001b[0m     \u001b[0mmodel\u001b[0m \u001b[0;34m=\u001b[0m \u001b[0;34m(\u001b[0m\u001b[0mckpt\u001b[0m\u001b[0;34m.\u001b[0m\u001b[0mget\u001b[0m\u001b[0;34m(\u001b[0m\u001b[0;34m\"ema\"\u001b[0m\u001b[0;34m)\u001b[0m \u001b[0;32mor\u001b[0m \u001b[0mckpt\u001b[0m\u001b[0;34m[\u001b[0m\u001b[0;34m\"model\"\u001b[0m\u001b[0;34m]\u001b[0m\u001b[0;34m)\u001b[0m\u001b[0;34m.\u001b[0m\u001b[0mto\u001b[0m\u001b[0;34m(\u001b[0m\u001b[0mdevice\u001b[0m\u001b[0;34m)\u001b[0m\u001b[0;34m.\u001b[0m\u001b[0mfloat\u001b[0m\u001b[0;34m(\u001b[0m\u001b[0;34m)\u001b[0m  \u001b[0;31m# FP32 model\u001b[0m\u001b[0;34m\u001b[0m\u001b[0;34m\u001b[0m\u001b[0m\n",
            "\u001b[0;32m/usr/local/lib/python3.10/dist-packages/ultralytics/nn/tasks.py\u001b[0m in \u001b[0;36mtorch_safe_load\u001b[0;34m(weight)\u001b[0m\n\u001b[1;32m    712\u001b[0m             }\n\u001b[1;32m    713\u001b[0m         ):  # for legacy 8.0 Classify and Pose models\n\u001b[0;32m--> 714\u001b[0;31m             \u001b[0mckpt\u001b[0m \u001b[0;34m=\u001b[0m \u001b[0mtorch\u001b[0m\u001b[0;34m.\u001b[0m\u001b[0mload\u001b[0m\u001b[0;34m(\u001b[0m\u001b[0mfile\u001b[0m\u001b[0;34m,\u001b[0m \u001b[0mmap_location\u001b[0m\u001b[0;34m=\u001b[0m\u001b[0;34m\"cpu\"\u001b[0m\u001b[0;34m)\u001b[0m\u001b[0;34m\u001b[0m\u001b[0;34m\u001b[0m\u001b[0m\n\u001b[0m\u001b[1;32m    715\u001b[0m \u001b[0;34m\u001b[0m\u001b[0m\n\u001b[1;32m    716\u001b[0m     \u001b[0;32mexcept\u001b[0m \u001b[0mModuleNotFoundError\u001b[0m \u001b[0;32mas\u001b[0m \u001b[0me\u001b[0m\u001b[0;34m:\u001b[0m  \u001b[0;31m# e.name is missing module name\u001b[0m\u001b[0;34m\u001b[0m\u001b[0;34m\u001b[0m\u001b[0m\n",
            "\u001b[0;32m/usr/local/lib/python3.10/dist-packages/torch/serialization.py\u001b[0m in \u001b[0;36mload\u001b[0;34m(f, map_location, pickle_module, weights_only, mmap, **pickle_load_args)\u001b[0m\n\u001b[1;32m    996\u001b[0m         \u001b[0mpickle_load_args\u001b[0m\u001b[0;34m[\u001b[0m\u001b[0;34m'encoding'\u001b[0m\u001b[0;34m]\u001b[0m \u001b[0;34m=\u001b[0m \u001b[0;34m'utf-8'\u001b[0m\u001b[0;34m\u001b[0m\u001b[0;34m\u001b[0m\u001b[0m\n\u001b[1;32m    997\u001b[0m \u001b[0;34m\u001b[0m\u001b[0m\n\u001b[0;32m--> 998\u001b[0;31m     \u001b[0;32mwith\u001b[0m \u001b[0m_open_file_like\u001b[0m\u001b[0;34m(\u001b[0m\u001b[0mf\u001b[0m\u001b[0;34m,\u001b[0m \u001b[0;34m'rb'\u001b[0m\u001b[0;34m)\u001b[0m \u001b[0;32mas\u001b[0m \u001b[0mopened_file\u001b[0m\u001b[0;34m:\u001b[0m\u001b[0;34m\u001b[0m\u001b[0;34m\u001b[0m\u001b[0m\n\u001b[0m\u001b[1;32m    999\u001b[0m         \u001b[0;32mif\u001b[0m \u001b[0m_is_zipfile\u001b[0m\u001b[0;34m(\u001b[0m\u001b[0mopened_file\u001b[0m\u001b[0;34m)\u001b[0m\u001b[0;34m:\u001b[0m\u001b[0;34m\u001b[0m\u001b[0;34m\u001b[0m\u001b[0m\n\u001b[1;32m   1000\u001b[0m             \u001b[0;31m# The zipfile reader is going to advance the current file position.\u001b[0m\u001b[0;34m\u001b[0m\u001b[0;34m\u001b[0m\u001b[0m\n",
            "\u001b[0;32m/usr/local/lib/python3.10/dist-packages/torch/serialization.py\u001b[0m in \u001b[0;36m_open_file_like\u001b[0;34m(name_or_buffer, mode)\u001b[0m\n\u001b[1;32m    443\u001b[0m \u001b[0;32mdef\u001b[0m \u001b[0m_open_file_like\u001b[0m\u001b[0;34m(\u001b[0m\u001b[0mname_or_buffer\u001b[0m\u001b[0;34m,\u001b[0m \u001b[0mmode\u001b[0m\u001b[0;34m)\u001b[0m\u001b[0;34m:\u001b[0m\u001b[0;34m\u001b[0m\u001b[0;34m\u001b[0m\u001b[0m\n\u001b[1;32m    444\u001b[0m     \u001b[0;32mif\u001b[0m \u001b[0m_is_path\u001b[0m\u001b[0;34m(\u001b[0m\u001b[0mname_or_buffer\u001b[0m\u001b[0;34m)\u001b[0m\u001b[0;34m:\u001b[0m\u001b[0;34m\u001b[0m\u001b[0;34m\u001b[0m\u001b[0m\n\u001b[0;32m--> 445\u001b[0;31m         \u001b[0;32mreturn\u001b[0m \u001b[0m_open_file\u001b[0m\u001b[0;34m(\u001b[0m\u001b[0mname_or_buffer\u001b[0m\u001b[0;34m,\u001b[0m \u001b[0mmode\u001b[0m\u001b[0;34m)\u001b[0m\u001b[0;34m\u001b[0m\u001b[0;34m\u001b[0m\u001b[0m\n\u001b[0m\u001b[1;32m    446\u001b[0m     \u001b[0;32melse\u001b[0m\u001b[0;34m:\u001b[0m\u001b[0;34m\u001b[0m\u001b[0;34m\u001b[0m\u001b[0m\n\u001b[1;32m    447\u001b[0m         \u001b[0;32mif\u001b[0m \u001b[0;34m'w'\u001b[0m \u001b[0;32min\u001b[0m \u001b[0mmode\u001b[0m\u001b[0;34m:\u001b[0m\u001b[0;34m\u001b[0m\u001b[0;34m\u001b[0m\u001b[0m\n",
            "\u001b[0;32m/usr/local/lib/python3.10/dist-packages/torch/serialization.py\u001b[0m in \u001b[0;36m__init__\u001b[0;34m(self, name, mode)\u001b[0m\n\u001b[1;32m    424\u001b[0m \u001b[0;32mclass\u001b[0m \u001b[0m_open_file\u001b[0m\u001b[0;34m(\u001b[0m\u001b[0m_opener\u001b[0m\u001b[0;34m)\u001b[0m\u001b[0;34m:\u001b[0m\u001b[0;34m\u001b[0m\u001b[0;34m\u001b[0m\u001b[0m\n\u001b[1;32m    425\u001b[0m     \u001b[0;32mdef\u001b[0m \u001b[0m__init__\u001b[0m\u001b[0;34m(\u001b[0m\u001b[0mself\u001b[0m\u001b[0;34m,\u001b[0m \u001b[0mname\u001b[0m\u001b[0;34m,\u001b[0m \u001b[0mmode\u001b[0m\u001b[0;34m)\u001b[0m\u001b[0;34m:\u001b[0m\u001b[0;34m\u001b[0m\u001b[0;34m\u001b[0m\u001b[0m\n\u001b[0;32m--> 426\u001b[0;31m         \u001b[0msuper\u001b[0m\u001b[0;34m(\u001b[0m\u001b[0;34m)\u001b[0m\u001b[0;34m.\u001b[0m\u001b[0m__init__\u001b[0m\u001b[0;34m(\u001b[0m\u001b[0mopen\u001b[0m\u001b[0;34m(\u001b[0m\u001b[0mname\u001b[0m\u001b[0;34m,\u001b[0m \u001b[0mmode\u001b[0m\u001b[0;34m)\u001b[0m\u001b[0;34m)\u001b[0m\u001b[0;34m\u001b[0m\u001b[0;34m\u001b[0m\u001b[0m\n\u001b[0m\u001b[1;32m    427\u001b[0m \u001b[0;34m\u001b[0m\u001b[0m\n\u001b[1;32m    428\u001b[0m     \u001b[0;32mdef\u001b[0m \u001b[0m__exit__\u001b[0m\u001b[0;34m(\u001b[0m\u001b[0mself\u001b[0m\u001b[0;34m,\u001b[0m \u001b[0;34m*\u001b[0m\u001b[0margs\u001b[0m\u001b[0;34m)\u001b[0m\u001b[0;34m:\u001b[0m\u001b[0;34m\u001b[0m\u001b[0;34m\u001b[0m\u001b[0m\n",
            "\u001b[0;31mFileNotFoundError\u001b[0m: [Errno 2] No such file or directory: '\\x08est.pt'"
          ]
        }
      ]
    },
    {
      "cell_type": "markdown",
      "source": [
        "Copy the results path from the output of the previous cell into path1 variable"
      ],
      "metadata": {
        "id": "0pPyPgGZvo29"
      }
    },
    {
      "cell_type": "code",
      "source": [
        "#IMPORTANT copy the results path from the output of the previous cell\n",
        "path1 = \"runs/detect/predict3\"\n",
        "\n",
        "#print the data of detected objects\n",
        "path2 = \"labels\"\n",
        "directory = os.path.join(path1, path2)\n",
        "if len(os.listdir(directory)) == 0:\n",
        "    print(\"No Potholes and no cracks detected\")\n",
        "else:\n",
        "    for filename in os.listdir(directory):\n",
        "        file_path = os.path.join(directory, filename)\n",
        "        if os.path.isfile(file_path):\n",
        "            if filename.lower().endswith('.txt'):\n",
        "                headers = [\"class\",\"x_center\",\"y_center\",\"width\",\"height\",\"confidence\"]\n",
        "                df = pd.read_csv(file_path, delim_whitespace=True, names=headers)\n",
        "                print(\"The following potholes and cracks were detected:\")\n",
        "                print(df)\n",
        "                break\n",
        "\n",
        "#displaying the output image\n",
        "for filename in os.listdir(path1):\n",
        "    file_path = os.path.join(path1, filename)\n",
        "    if os.path.isfile(file_path):\n",
        "        if filename.lower().endswith(('.png', '.jpg', '.jpeg')):\n",
        "            display(IPImage(filename=file_path))    #neccessary for colab, replace with PIL or cv2 display in local environments"
      ],
      "metadata": {
        "colab": {
          "base_uri": "https://localhost:8080/",
          "height": 692
        },
        "id": "N12-wIXjHWC9",
        "outputId": "0b427868-9744-4035-c5cf-d7d2c16c88f8"
      },
      "execution_count": null,
      "outputs": [
        {
          "output_type": "stream",
          "name": "stdout",
          "text": [
            "   class  x_center  y_center    width    height  confidence\n",
            "0      1  0.676438  0.819149  0.15798  0.067261    0.757343\n"
          ]
        },
        {
          "output_type": "display_data",
          "data": {
            "image/jpeg": "[encoded data removed]",
            "text/plain": [
              "<IPython.core.display.Image object>"
            ]
          },
          "metadata": {}
        }
      ]
    },
    {
      "cell_type": "markdown",
      "source": [
        "# Testset Testing"
      ],
      "metadata": {
        "id": "6eRBVuqOq8t8"
      }
    },
    {
      "cell_type": "markdown",
      "source": [
        "Upload testset.zip containing the test image. Make sure that your test images that contain potholes or cracks have names starting with \"p\".\n",
        "\n"
      ],
      "metadata": {
        "id": "E0zwJKYWvCwU"
      }
    },
    {
      "cell_type": "code",
      "source": [
        "with zipfile.ZipFile(\"testset.zip\", 'r') as zip_ref:\n",
        "    zip_ref.extractall()"
      ],
      "metadata": {
        "id": "_Y1x4LE0u1Af"
      },
      "execution_count": 25,
      "outputs": []
    },
    {
      "cell_type": "markdown",
      "source": [
        "Running the model on testset images"
      ],
      "metadata": {
        "id": "PYzbnzUtvRok"
      }
    },
    {
      "cell_type": "code",
      "source": [
        "#Params\n",
        "test_path = \"/content/testset\"\n",
        "pt_file = \"/content/runs/detect/train/weights/best.pt\"\n",
        "min_confidence = 0.1\n",
        "\n",
        "#Preparing test images\n",
        "test_images = []\n",
        "num_pothole_images = 0\n",
        "num_clean_images = 0\n",
        "for filename in os.listdir(test_path):\n",
        "    file_path = os.path.join(test_path, filename)\n",
        "    test_images.append(file_path)\n",
        "    if filename.startswith('p'):\n",
        "        num_pothole_images = num_pothole_images + 1\n",
        "    else:\n",
        "        num_clean_images = num_clean_images + 1\n",
        "\n",
        "#Test\n",
        "model=YOLO(pt_file)\n",
        "model.to(device)\n",
        "result = model(source=test_images,save=True,save_txt=True,save_conf=True,conf=min_confidence)"
      ],
      "metadata": {
        "id": "bBkE08P8oaO6",
        "colab": {
          "base_uri": "https://localhost:8080/"
        },
        "outputId": "787841fe-1279-4724-dace-5621d85e8a28"
      },
      "execution_count": 26,
      "outputs": [
        {
          "output_type": "stream",
          "name": "stdout",
          "text": [
            "\n",
            "0: 640x640 1 pothole, 10.0ms\n",
            "1: 640x640 1 pothole, 10.0ms\n",
            "2: 640x640 (no detections), 10.0ms\n",
            "3: 640x640 (no detections), 10.0ms\n",
            "4: 640x640 3 potholes, 10.0ms\n",
            "5: 640x640 3 potholes, 10.0ms\n",
            "6: 640x640 4 potholes, 10.0ms\n",
            "7: 640x640 (no detections), 10.0ms\n",
            "8: 640x640 (no detections), 10.0ms\n",
            "9: 640x640 2 potholes, 10.0ms\n",
            "10: 640x640 1 pothole, 10.0ms\n",
            "11: 640x640 (no detections), 10.0ms\n",
            "12: 640x640 3 potholes, 10.0ms\n",
            "13: 640x640 1 pothole, 10.0ms\n",
            "14: 640x640 (no detections), 10.0ms\n",
            "15: 640x640 (no detections), 10.0ms\n",
            "16: 640x640 (no detections), 10.0ms\n",
            "17: 640x640 (no detections), 10.0ms\n",
            "18: 640x640 4 potholes, 10.0ms\n",
            "19: 640x640 3 potholes, 10.0ms\n",
            "20: 640x640 (no detections), 10.0ms\n",
            "21: 640x640 3 potholes, 10.0ms\n",
            "22: 640x640 (no detections), 10.0ms\n",
            "23: 640x640 3 potholes, 10.0ms\n",
            "24: 640x640 (no detections), 10.0ms\n",
            "25: 640x640 (no detections), 10.0ms\n",
            "26: 640x640 4 potholes, 10.0ms\n",
            "27: 640x640 2 potholes, 10.0ms\n",
            "28: 640x640 5 potholes, 10.0ms\n",
            "29: 640x640 9 potholes, 10.0ms\n",
            "30: 640x640 1 pothole, 10.0ms\n",
            "31: 640x640 (no detections), 10.0ms\n",
            "32: 640x640 7 potholes, 10.0ms\n",
            "33: 640x640 (no detections), 10.0ms\n",
            "34: 640x640 18 potholes, 10.0ms\n",
            "35: 640x640 4 potholes, 10.0ms\n",
            "36: 640x640 (no detections), 10.0ms\n",
            "37: 640x640 (no detections), 10.0ms\n",
            "38: 640x640 2 potholes, 10.0ms\n",
            "39: 640x640 (no detections), 10.0ms\n",
            "40: 640x640 (no detections), 10.0ms\n",
            "41: 640x640 4 potholes, 10.0ms\n",
            "42: 640x640 7 potholes, 10.0ms\n",
            "43: 640x640 9 potholes, 10.0ms\n",
            "44: 640x640 (no detections), 10.0ms\n",
            "45: 640x640 (no detections), 10.0ms\n",
            "46: 640x640 (no detections), 10.0ms\n",
            "47: 640x640 4 potholes, 10.0ms\n",
            "48: 640x640 (no detections), 10.0ms\n",
            "49: 640x640 (no detections), 10.0ms\n",
            "50: 640x640 1 pothole, 10.0ms\n",
            "51: 640x640 1 pothole, 10.0ms\n",
            "52: 640x640 (no detections), 10.0ms\n",
            "53: 640x640 2 potholes, 10.0ms\n",
            "54: 640x640 11 potholes, 10.0ms\n",
            "55: 640x640 1 pothole, 10.0ms\n",
            "56: 640x640 (no detections), 10.0ms\n",
            "57: 640x640 (no detections), 10.0ms\n",
            "58: 640x640 (no detections), 10.0ms\n",
            "59: 640x640 6 potholes, 10.0ms\n",
            "60: 640x640 1 pothole, 10.0ms\n",
            "61: 640x640 (no detections), 10.0ms\n",
            "62: 640x640 2 potholes, 10.0ms\n",
            "63: 640x640 (no detections), 10.0ms\n",
            "64: 640x640 8 potholes, 10.0ms\n",
            "65: 640x640 (no detections), 10.0ms\n",
            "66: 640x640 (no detections), 10.0ms\n",
            "67: 640x640 5 potholes, 10.0ms\n",
            "68: 640x640 8 potholes, 10.0ms\n",
            "69: 640x640 4 potholes, 10.0ms\n",
            "70: 640x640 (no detections), 10.0ms\n",
            "71: 640x640 (no detections), 10.0ms\n",
            "72: 640x640 (no detections), 10.0ms\n",
            "73: 640x640 3 potholes, 10.0ms\n",
            "74: 640x640 4 potholes, 10.0ms\n",
            "75: 640x640 4 potholes, 10.0ms\n",
            "76: 640x640 (no detections), 10.0ms\n",
            "77: 640x640 (no detections), 10.0ms\n",
            "78: 640x640 1 pothole, 10.0ms\n",
            "79: 640x640 4 potholes, 10.0ms\n",
            "80: 640x640 3 potholes, 10.0ms\n",
            "81: 640x640 (no detections), 10.0ms\n",
            "82: 640x640 5 potholes, 10.0ms\n",
            "83: 640x640 3 potholes, 10.0ms\n",
            "84: 640x640 3 potholes, 10.0ms\n",
            "85: 640x640 5 potholes, 10.0ms\n",
            "86: 640x640 2 potholes, 10.0ms\n",
            "87: 640x640 (no detections), 10.0ms\n",
            "88: 640x640 (no detections), 10.0ms\n",
            "89: 640x640 4 potholes, 10.0ms\n",
            "90: 640x640 (no detections), 10.0ms\n",
            "91: 640x640 9 potholes, 10.0ms\n",
            "92: 640x640 (no detections), 10.0ms\n",
            "93: 640x640 (no detections), 10.0ms\n",
            "94: 640x640 3 potholes, 10.0ms\n",
            "95: 640x640 (no detections), 10.0ms\n",
            "96: 640x640 (no detections), 10.0ms\n",
            "97: 640x640 5 potholes, 10.0ms\n",
            "98: 640x640 (no detections), 10.0ms\n",
            "99: 640x640 4 potholes, 10.0ms\n",
            "100: 640x640 (no detections), 10.0ms\n",
            "101: 640x640 3 potholes, 10.0ms\n",
            "102: 640x640 (no detections), 10.0ms\n",
            "103: 640x640 (no detections), 10.0ms\n",
            "104: 640x640 2 potholes, 10.0ms\n",
            "105: 640x640 5 potholes, 10.0ms\n",
            "106: 640x640 3 potholes, 10.0ms\n",
            "107: 640x640 (no detections), 10.0ms\n",
            "108: 640x640 3 potholes, 10.0ms\n",
            "109: 640x640 2 potholes, 10.0ms\n",
            "110: 640x640 (no detections), 10.0ms\n",
            "111: 640x640 1 pothole, 10.0ms\n",
            "112: 640x640 8 potholes, 10.0ms\n",
            "113: 640x640 (no detections), 10.0ms\n",
            "114: 640x640 (no detections), 10.0ms\n",
            "115: 640x640 (no detections), 10.0ms\n",
            "116: 640x640 11 potholes, 10.0ms\n",
            "117: 640x640 6 potholes, 10.0ms\n",
            "118: 640x640 2 potholes, 10.0ms\n",
            "119: 640x640 6 potholes, 10.0ms\n",
            "120: 640x640 (no detections), 10.0ms\n",
            "121: 640x640 (no detections), 10.0ms\n",
            "122: 640x640 2 potholes, 10.0ms\n",
            "123: 640x640 1 pothole, 10.0ms\n",
            "124: 640x640 1 pothole, 10.0ms\n",
            "125: 640x640 1 pothole, 10.0ms\n",
            "126: 640x640 10 potholes, 10.0ms\n",
            "127: 640x640 1 pothole, 10.0ms\n",
            "128: 640x640 (no detections), 10.0ms\n",
            "129: 640x640 4 potholes, 10.0ms\n",
            "130: 640x640 1 pothole, 10.0ms\n",
            "131: 640x640 1 pothole, 10.0ms\n",
            "132: 640x640 1 pothole, 10.0ms\n",
            "133: 640x640 (no detections), 10.0ms\n",
            "134: 640x640 (no detections), 10.0ms\n",
            "135: 640x640 6 potholes, 10.0ms\n",
            "136: 640x640 1 pothole, 10.0ms\n",
            "137: 640x640 (no detections), 10.0ms\n",
            "138: 640x640 3 potholes, 10.0ms\n",
            "139: 640x640 (no detections), 10.0ms\n",
            "140: 640x640 (no detections), 10.0ms\n",
            "141: 640x640 3 potholes, 10.0ms\n",
            "142: 640x640 (no detections), 10.0ms\n",
            "143: 640x640 (no detections), 10.0ms\n",
            "144: 640x640 (no detections), 10.0ms\n",
            "145: 640x640 2 potholes, 10.0ms\n",
            "146: 640x640 (no detections), 10.0ms\n",
            "147: 640x640 2 potholes, 10.0ms\n",
            "148: 640x640 (no detections), 10.0ms\n",
            "149: 640x640 (no detections), 10.0ms\n",
            "150: 640x640 5 potholes, 10.0ms\n",
            "151: 640x640 (no detections), 10.0ms\n",
            "152: 640x640 (no detections), 10.0ms\n",
            "153: 640x640 (no detections), 10.0ms\n",
            "154: 640x640 3 potholes, 10.0ms\n",
            "155: 640x640 2 potholes, 10.0ms\n",
            "156: 640x640 (no detections), 10.0ms\n",
            "157: 640x640 1 pothole, 10.0ms\n",
            "158: 640x640 5 potholes, 10.0ms\n",
            "159: 640x640 (no detections), 10.0ms\n",
            "160: 640x640 3 potholes, 10.0ms\n",
            "161: 640x640 8 potholes, 10.0ms\n",
            "162: 640x640 5 potholes, 10.0ms\n",
            "163: 640x640 1 pothole, 10.0ms\n",
            "164: 640x640 3 potholes, 10.0ms\n",
            "165: 640x640 1 pothole, 10.0ms\n",
            "166: 640x640 5 potholes, 10.0ms\n",
            "167: 640x640 1 pothole, 10.0ms\n",
            "168: 640x640 (no detections), 10.0ms\n",
            "169: 640x640 (no detections), 10.0ms\n",
            "170: 640x640 1 pothole, 10.0ms\n",
            "171: 640x640 2 potholes, 10.0ms\n",
            "172: 640x640 (no detections), 10.0ms\n",
            "173: 640x640 (no detections), 10.0ms\n",
            "174: 640x640 2 potholes, 10.0ms\n",
            "175: 640x640 (no detections), 10.0ms\n",
            "176: 640x640 (no detections), 10.0ms\n",
            "177: 640x640 (no detections), 10.0ms\n",
            "178: 640x640 1 pothole, 10.0ms\n",
            "179: 640x640 (no detections), 10.0ms\n",
            "180: 640x640 (no detections), 10.0ms\n",
            "181: 640x640 (no detections), 10.0ms\n",
            "182: 640x640 4 potholes, 10.0ms\n",
            "183: 640x640 (no detections), 10.0ms\n",
            "184: 640x640 (no detections), 10.0ms\n",
            "185: 640x640 2 potholes, 10.0ms\n",
            "186: 640x640 (no detections), 10.0ms\n",
            "187: 640x640 (no detections), 10.0ms\n",
            "188: 640x640 5 potholes, 10.0ms\n",
            "189: 640x640 2 potholes, 10.0ms\n",
            "190: 640x640 (no detections), 10.0ms\n",
            "191: 640x640 (no detections), 10.0ms\n",
            "192: 640x640 1 pothole, 10.0ms\n",
            "193: 640x640 (no detections), 10.0ms\n",
            "194: 640x640 (no detections), 10.0ms\n",
            "195: 640x640 5 potholes, 10.0ms\n",
            "196: 640x640 6 potholes, 10.0ms\n",
            "197: 640x640 2 potholes, 10.0ms\n",
            "198: 640x640 8 potholes, 10.0ms\n",
            "199: 640x640 4 potholes, 10.0ms\n",
            "200: 640x640 (no detections), 10.0ms\n",
            "201: 640x640 3 potholes, 10.0ms\n",
            "202: 640x640 (no detections), 10.0ms\n",
            "203: 640x640 (no detections), 10.0ms\n",
            "204: 640x640 2 potholes, 10.0ms\n",
            "205: 640x640 (no detections), 10.0ms\n",
            "206: 640x640 (no detections), 10.0ms\n",
            "207: 640x640 (no detections), 10.0ms\n",
            "208: 640x640 4 potholes, 10.0ms\n",
            "209: 640x640 4 potholes, 10.0ms\n",
            "210: 640x640 (no detections), 10.0ms\n",
            "211: 640x640 1 pothole, 10.0ms\n",
            "212: 640x640 3 potholes, 10.0ms\n",
            "213: 640x640 1 pothole, 10.0ms\n",
            "214: 640x640 1 pothole, 10.0ms\n",
            "215: 640x640 (no detections), 10.0ms\n",
            "216: 640x640 (no detections), 10.0ms\n",
            "217: 640x640 (no detections), 10.0ms\n",
            "218: 640x640 1 pothole, 10.0ms\n",
            "219: 640x640 (no detections), 10.0ms\n",
            "220: 640x640 4 potholes, 10.0ms\n",
            "221: 640x640 (no detections), 10.0ms\n",
            "222: 640x640 4 potholes, 10.0ms\n",
            "223: 640x640 (no detections), 10.0ms\n",
            "224: 640x640 4 potholes, 10.0ms\n",
            "225: 640x640 1 pothole, 10.0ms\n",
            "226: 640x640 (no detections), 10.0ms\n",
            "227: 640x640 (no detections), 10.0ms\n",
            "228: 640x640 (no detections), 10.0ms\n",
            "229: 640x640 (no detections), 10.0ms\n",
            "230: 640x640 22 potholes, 10.0ms\n",
            "231: 640x640 2 potholes, 10.0ms\n",
            "232: 640x640 3 potholes, 10.0ms\n",
            "233: 640x640 3 potholes, 10.0ms\n",
            "234: 640x640 (no detections), 10.0ms\n",
            "235: 640x640 (no detections), 10.0ms\n",
            "236: 640x640 1 pothole, 10.0ms\n",
            "237: 640x640 4 potholes, 10.0ms\n",
            "238: 640x640 3 potholes, 10.0ms\n",
            "239: 640x640 (no detections), 10.0ms\n",
            "240: 640x640 (no detections), 10.0ms\n",
            "241: 640x640 (no detections), 10.0ms\n",
            "242: 640x640 (no detections), 10.0ms\n",
            "243: 640x640 7 potholes, 10.0ms\n",
            "244: 640x640 (no detections), 10.0ms\n",
            "245: 640x640 (no detections), 10.0ms\n",
            "246: 640x640 (no detections), 10.0ms\n",
            "247: 640x640 5 potholes, 10.0ms\n",
            "248: 640x640 2 potholes, 10.0ms\n",
            "249: 640x640 (no detections), 10.0ms\n",
            "250: 640x640 3 potholes, 10.0ms\n",
            "251: 640x640 (no detections), 10.0ms\n",
            "252: 640x640 (no detections), 10.0ms\n",
            "253: 640x640 (no detections), 10.0ms\n",
            "254: 640x640 (no detections), 10.0ms\n",
            "255: 640x640 (no detections), 10.0ms\n",
            "256: 640x640 (no detections), 10.0ms\n",
            "257: 640x640 (no detections), 10.0ms\n",
            "258: 640x640 1 pothole, 10.0ms\n",
            "259: 640x640 (no detections), 10.0ms\n",
            "260: 640x640 7 potholes, 10.0ms\n",
            "261: 640x640 1 pothole, 10.0ms\n",
            "262: 640x640 (no detections), 10.0ms\n",
            "263: 640x640 2 potholes, 10.0ms\n",
            "264: 640x640 7 potholes, 10.0ms\n",
            "265: 640x640 1 pothole, 10.0ms\n",
            "266: 640x640 20 potholes, 10.0ms\n",
            "267: 640x640 (no detections), 10.0ms\n",
            "268: 640x640 3 potholes, 10.0ms\n",
            "269: 640x640 5 potholes, 10.0ms\n",
            "270: 640x640 2 potholes, 10.0ms\n",
            "271: 640x640 (no detections), 10.0ms\n",
            "272: 640x640 (no detections), 10.0ms\n",
            "273: 640x640 (no detections), 10.0ms\n",
            "274: 640x640 (no detections), 10.0ms\n",
            "275: 640x640 1 pothole, 10.0ms\n",
            "276: 640x640 1 pothole, 10.0ms\n",
            "277: 640x640 (no detections), 10.0ms\n",
            "278: 640x640 (no detections), 10.0ms\n",
            "279: 640x640 (no detections), 10.0ms\n",
            "280: 640x640 (no detections), 10.0ms\n",
            "281: 640x640 (no detections), 10.0ms\n",
            "282: 640x640 3 potholes, 10.0ms\n",
            "283: 640x640 13 potholes, 10.0ms\n",
            "284: 640x640 (no detections), 10.0ms\n",
            "285: 640x640 2 potholes, 10.0ms\n",
            "286: 640x640 2 potholes, 10.0ms\n",
            "287: 640x640 (no detections), 10.0ms\n",
            "288: 640x640 (no detections), 10.0ms\n",
            "Speed: 9.7ms preprocess, 10.0ms inference, 0.5ms postprocess per image at shape (1, 3, 640, 640)\n",
            "Results saved to \u001b[1mruns/detect/predict5\u001b[0m\n",
            "149 labels saved to runs/detect/predict5/labels\n"
          ]
        }
      ]
    },
    {
      "cell_type": "markdown",
      "source": [
        "Copy the results path from the output of the previous cell into path1 variable"
      ],
      "metadata": {
        "id": "b72Jw-T7vZy8"
      }
    },
    {
      "cell_type": "code",
      "source": [
        "#IMPORTANT copy the results path from the output of the previous cell\n",
        "path1 = \"runs/detect/predict\"\n",
        "\n",
        "true_positives = 0\n",
        "false_positives = 0\n",
        "false_negatives = 0\n",
        "true_negatives = 0\n",
        "detected = []\n",
        "#get the data of detected objects\n",
        "path2 = \"labels\"\n",
        "directory = os.path.join(path1, path2)\n",
        "if len(os.listdir(directory)) == 0:\n",
        "    print(\"No Potholes and no cracks detected across the whole dataset\")\n",
        "else:\n",
        "    for filename in os.listdir(directory):\n",
        "        file_path = os.path.join(directory, filename)\n",
        "        if os.path.isfile(file_path):\n",
        "            if filename.lower().endswith('.txt'):\n",
        "                if filename.startswith('p'):\n",
        "                    true_positives = true_positives + 1\n",
        "                    detected.append(filename)\n",
        "                else:\n",
        "                    false_positives = false_positives + 1\n",
        "    #calculate the classification categories\n",
        "    false_negatives = num_pothole_images - true_positives\n",
        "    true_negatives = num_clean_images - false_positives\n",
        "    print(\"True positives: \" + str(true_positives))\n",
        "    print(\"True negatives: \" + str(true_negatives))\n",
        "    print(\"False positives: \" + str(false_positives))\n",
        "    print(\"False negatives: \" + str(false_negatives))\n",
        "    #calculate the metrics\n",
        "    accuracy = (true_positives+true_negatives)/(true_positives+true_negatives+false_positives+false_negatives)\n",
        "    precision = (true_positives)/(true_positives+false_positives)\n",
        "    recall = (true_positives)/(true_positives+false_negatives)\n",
        "    print(\"Accuracy: \" + str(accuracy))\n",
        "    print(\"Precision: \" + str(precision))\n",
        "    print(\"Recall: \" + str(recall))"
      ],
      "metadata": {
        "id": "3Z3P2KwJv7j2",
        "colab": {
          "base_uri": "https://localhost:8080/"
        },
        "outputId": "e08fb467-9e82-46c6-b5bf-eb606d942fd5"
      },
      "execution_count": 27,
      "outputs": [
        {
          "output_type": "stream",
          "name": "stdout",
          "text": [
            "True positives: 136\n",
            "True negatives: 127\n",
            "False positives: 13\n",
            "False negatives: 13\n",
            "Accuracy: 0.9100346020761245\n",
            "Precision: 0.912751677852349\n",
            "Recall: 0.912751677852349\n"
          ]
        }
      ]
    }
  ]
}