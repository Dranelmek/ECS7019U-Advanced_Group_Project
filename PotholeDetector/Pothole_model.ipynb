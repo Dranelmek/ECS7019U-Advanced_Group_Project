{
  "nbformat": 4,
  "nbformat_minor": 0,
  "metadata": {
    "colab": {
      "provenance": [],
      "gpuType": "T4"
    },
    "kernelspec": {
      "name": "python3",
      "display_name": "Python 3"
    },
    "language_info": {
      "name": "python"
    },
    "accelerator": "GPU"
  },
  "cells": [
    {
      "cell_type": "markdown",
      "source": [
        "# Neccessary imports and enabling drive"
      ],
      "metadata": {
        "id": "5phR-ij9t1aa"
      }
    },
    {
      "cell_type": "code",
      "execution_count": 1,
      "metadata": {
        "id": "qvyBEW0XtZVg"
      },
      "outputs": [],
      "source": [
        "import torch\n",
        "import torch.nn as nn\n",
        "import torch.optim as optim\n",
        "from torch.utils.data import DataLoader, TensorDataset\n",
        "import torchvision\n",
        "from torchvision import transforms\n",
        "import matplotlib.pyplot as plt\n",
        "import cv2\n",
        "import numpy as np\n",
        "from google.colab import drive\n",
        "from google.colab import files\n",
        "from PIL import Image\n",
        "import os\n",
        "from google.colab import output"
      ]
    },
    {
      "cell_type": "markdown",
      "source": [
        "# GPU Configuration"
      ],
      "metadata": {
        "id": "_yGW_UkDvPB3"
      }
    },
    {
      "cell_type": "code",
      "source": [
        "if torch.cuda.is_available():\n",
        "    device = torch.device(\"cuda\")\n",
        "    print('Using GPU:', torch.cuda.get_device_name())\n",
        "else:\n",
        "    device = torch.device(\"cpu\")\n",
        "    print('Using CPU')"
      ],
      "metadata": {
        "id": "zsTX5T6nvUtY",
        "colab": {
          "base_uri": "https://localhost:8080/"
        },
        "outputId": "d63c6474-c379-4123-88e8-3e1a553c7483"
      },
      "execution_count": 2,
      "outputs": [
        {
          "output_type": "stream",
          "name": "stdout",
          "text": [
            "Using GPU: Tesla T4\n"
          ]
        }
      ]
    },
    {
      "cell_type": "markdown",
      "source": [
        "# Upload images for train and testset\n",
        "Press the upload button under the cell to upload the images. The code assumes that image names indicate the labels. If the image name starts with the letter 'p', then it's considered a pothole image."
      ],
      "metadata": {
        "id": "-amHFo83vAYj"
      }
    },
    {
      "cell_type": "code",
      "source": [
        "train_folder_path = '/content/trainset'\n",
        "validation_folder_path = '/content/validationset'\n",
        "test_folder_path = '/content/testset'\n",
        "\n",
        "#create trainset folder if one doesn't exist\n",
        "if not os.path.exists(train_folder_path):\n",
        "    os.makedirs(train_folder_path)\n",
        "    print(f\"Directory '{train_folder_path}' created.\")\n",
        "\n",
        "#upload files into trainset\n",
        "print(\"Upload Trainset\")\n",
        "uploaded_trainset = files.upload()\n",
        "for filename, file_content in uploaded_trainset.items():\n",
        "    file_path = os.path.join(train_folder_path, filename)\n",
        "    if not os.path.exists(file_path):\n",
        "        with open(file_path, 'wb') as f:\n",
        "            f.write(file_content)\n",
        "output.clear()\n",
        "print(\"Trainset successfully uploaded\")\n",
        "# Delete the files from the root directory\n",
        "for filename in uploaded_trainset.keys():\n",
        "    if os.path.exists(filename):\n",
        "        os.remove(filename)\n",
        "\n",
        "#create validationset folder if one doesn't exist\n",
        "if not os.path.exists(validation_folder_path):\n",
        "    os.makedirs(validation_folder_path)\n",
        "    print(f\"Directory '{validation_folder_path}' created.\")\n",
        "\n",
        "#upload files into validationset\n",
        "print(\"Upload validationset\")\n",
        "uploaded_validationset = files.upload()\n",
        "for filename, file_content in uploaded_validationset.items():\n",
        "    file_path = os.path.join(validation_folder_path, filename)\n",
        "    if not os.path.exists(file_path):\n",
        "        with open(file_path, 'wb') as f:\n",
        "            f.write(file_content)\n",
        "output.clear()\n",
        "print(\"Validationset successfully uploaded\")\n",
        "# Delete the files from the root directory\n",
        "for filename in uploaded_validationset.keys():\n",
        "    if os.path.exists(filename):\n",
        "        os.remove(filename)\n",
        "\n",
        "#create testset folder if one doesn't exist\n",
        "if not os.path.exists(test_folder_path):\n",
        "    os.makedirs(test_folder_path)\n",
        "    print(f\"Directory '{test_folder_path}' created.\")\n",
        "\n",
        "#upload files into testset\n",
        "print(\"Upload Testset\")\n",
        "uploaded_testset = files.upload()\n",
        "for filename, file_content in uploaded_testset.items():\n",
        "    file_path = os.path.join(test_folder_path, filename)\n",
        "    if not os.path.exists(file_path):\n",
        "        with open(file_path, 'wb') as f:\n",
        "            f.write(file_content)\n",
        "# Delete the files from the root directory\n",
        "for filename in uploaded_testset.keys():\n",
        "    if os.path.exists(filename):\n",
        "        os.remove(filename)\n",
        "output.clear()\n",
        "print(\"Testset successfully uploaded\")"
      ],
      "metadata": {
        "id": "Mi_ph2usvFZJ",
        "colab": {
          "base_uri": "https://localhost:8080/",
          "height": 35
        },
        "outputId": "4eea99a7-8b32-4430-da14-7d6b6cae12f3"
      },
      "execution_count": 3,
      "outputs": [
        {
          "output_type": "stream",
          "name": "stdout",
          "text": [
            "Testset successfully uploaded\n"
          ]
        }
      ]
    },
    {
      "cell_type": "markdown",
      "source": [
        "# Preprocess images\n",
        "Make sure pothole image names start with p"
      ],
      "metadata": {
        "id": "Y6h86CDSMt_X"
      }
    },
    {
      "cell_type": "code",
      "source": [
        "def filter_images(folder_path):\n",
        "    # List all files in the 'trainset' directory\n",
        "    file_list = os.listdir(folder_path)\n",
        "\n",
        "    # Iterate through the files in the directory\n",
        "    for filename in file_list:\n",
        "        file_path = os.path.join(folder_path, filename)\n",
        "\n",
        "        # Check if the file is an image (you can add more extensions if needed)\n",
        "        if filename.lower().endswith(('.png', '.jpg', '.jpeg')):\n",
        "            # Read the image using OpenCV\n",
        "            image = cv2.imread(file_path)\n",
        "\n",
        "            #TODO\n",
        "            filtered_image = image\n",
        "\n",
        "            # Save the grayscale image with the same filename\n",
        "            cv2.imwrite(file_path, filtered_image)\n",
        "\n",
        "train_folder_path = '/content/trainset'\n",
        "filter_images(train_folder_path)\n",
        "validation_folder_path = '/content/validationset'\n",
        "filter_images(validation_folder_path)\n",
        "test_folder_path = '/content/testset'\n",
        "filter_images(test_folder_path)"
      ],
      "metadata": {
        "id": "6Wzno7ZjO0PX"
      },
      "execution_count": 4,
      "outputs": []
    },
    {
      "cell_type": "markdown",
      "source": [
        "# Convert processed images to normalised tensors with labels"
      ],
      "metadata": {
        "id": "XJUNHDqRUNa7"
      }
    },
    {
      "cell_type": "code",
      "source": [
        "trainset_path = '/content/trainset'\n",
        "validationset_path = '/content/validationset'\n",
        "testset_path = '/content/testset'\n",
        "\n",
        "# Define a transform to apply to the images (adjust the transformations as needed)\n",
        "transform = transforms.Compose([\n",
        "    transforms.Resize((224, 224)),  # Resize the images to a consistent size\n",
        "    transforms.ToTensor(),          # Convert images to PyTorch tensors\n",
        "])\n",
        "\n",
        "def load_images_from_folder(folder_path):\n",
        "    image_tensors = []\n",
        "    labels = []\n",
        "    for filename in os.listdir(folder_path):\n",
        "        #Get the labels\n",
        "        if filename[0]==\"p\":\n",
        "            labels.append(1)\n",
        "        else:\n",
        "            labels.append(0)\n",
        "        img_path = os.path.join(folder_path, filename)\n",
        "        if os.path.isfile(img_path):\n",
        "            # Read the image using OpenCV\n",
        "            image = cv2.imread(img_path)\n",
        "            # Convert NumPy array to PIL image\n",
        "            pil_image = Image.fromarray(image)\n",
        "            # Apply transformations\n",
        "            pil_image = transform(pil_image)\n",
        "            image_tensors.append(pil_image)\n",
        "    return image_tensors, labels\n",
        "\n",
        "# Load images from trainset and testset folders\n",
        "trainset_images, trainset_labels = load_images_from_folder(trainset_path)\n",
        "validationset_images, validationset_labels = load_images_from_folder(validationset_path)\n",
        "testset_images, testset_labels = load_images_from_folder(testset_path)\n",
        "\n",
        "# Convert the lists of tensors into a single tensor\n",
        "trainset_tensor = torch.stack(trainset_images)\n",
        "validationset_tensor = torch.stack(validationset_images)\n",
        "testset_tensor = torch.stack(testset_images)\n",
        "\n",
        "# Print the shape of the resulting tensors\n",
        "print(\"Trainset tensor shape:\", trainset_tensor.shape)\n",
        "print(\"Validationset tensor shape:\", validationset_tensor.shape)\n",
        "print(\"Testset tensor shape:\", testset_tensor.shape)\n",
        "\n",
        "#set batch size\n",
        "batch_size = 4 #TODO\n",
        "# Create DataLoader for training and testing\n",
        "train_dataset = TensorDataset(trainset_tensor, torch.tensor(trainset_labels))\n",
        "validation_dataset = TensorDataset(validationset_tensor, torch.tensor(validationset_labels))\n",
        "test_dataset = TensorDataset(testset_tensor, torch.tensor(testset_labels))\n",
        "train_loader = DataLoader(train_dataset, batch_size=batch_size,shuffle=True)\n",
        "validation_loader = DataLoader(validation_dataset, batch_size=batch_size,shuffle=True)\n",
        "test_loader = DataLoader(train_dataset, batch_size=batch_size, shuffle=True)\n"
      ],
      "metadata": {
        "colab": {
          "base_uri": "https://localhost:8080/"
        },
        "id": "QJC2ShucU8-c",
        "outputId": "48462979-fadf-4dee-c820-2faaa5d6ab22"
      },
      "execution_count": 5,
      "outputs": [
        {
          "output_type": "stream",
          "name": "stdout",
          "text": [
            "Trainset tensor shape: torch.Size([20, 3, 224, 224])\n",
            "Validationset tensor shape: torch.Size([20, 3, 224, 224])\n",
            "Testset tensor shape: torch.Size([20, 3, 224, 224])\n"
          ]
        }
      ]
    },
    {
      "cell_type": "markdown",
      "source": [
        "# Model"
      ],
      "metadata": {
        "id": "3zzLUMVrADCV"
      }
    },
    {
      "cell_type": "code",
      "source": [
        "# Define a simple CNN model\n",
        "class Model(nn.Module):\n",
        "    def __init__(self):\n",
        "        super(Model, self).__init__()\n",
        "        self.conv1 = nn.Conv2d(3, 16, kernel_size=3, stride=1, padding=1)\n",
        "        self.relu1 = nn.ReLU()\n",
        "        self.pool1 = nn.MaxPool2d(kernel_size=2, stride=2, padding=0)\n",
        "        self.conv2 = nn.Conv2d(16, 32, kernel_size=3, stride=1, padding=1)\n",
        "        self.relu2 = nn.ReLU()\n",
        "        self.pool2 = nn.MaxPool2d(kernel_size=2, stride=2, padding=0)\n",
        "        self.fc1 = nn.Linear(32 * 56 * 56, 32)\n",
        "        self.fc2 = nn.Linear(32, 2)\n",
        "\n",
        "\n",
        "    def forward(self, x):\n",
        "        x = self.relu1(self.conv1(x))\n",
        "        x = self.pool1(x)\n",
        "        x = self.relu2(self.conv2(x))\n",
        "        x = self.pool2(x)\n",
        "        x = x.view(-1, 32 * 56 * 56)\n",
        "        x = self.fc1(x)\n",
        "        x = self.fc2(x)\n",
        "        x = torch.softmax(x, dim=1)\n",
        "        return x\n",
        "\n",
        "model = Model()\n",
        "criterion = nn.CrossEntropyLoss()\n",
        "optimizer = optim.Adam(model.parameters(), lr=0.01)\n",
        "model.to(device)"
      ],
      "metadata": {
        "colab": {
          "base_uri": "https://localhost:8080/"
        },
        "id": "z6z2e0pPAGfl",
        "outputId": "7f44a4ed-7dfb-4f6a-acdc-0a35638e68db"
      },
      "execution_count": 8,
      "outputs": [
        {
          "output_type": "execute_result",
          "data": {
            "text/plain": [
              "Model(\n",
              "  (conv1): Conv2d(3, 16, kernel_size=(3, 3), stride=(1, 1), padding=(1, 1))\n",
              "  (relu1): ReLU()\n",
              "  (pool1): MaxPool2d(kernel_size=2, stride=2, padding=0, dilation=1, ceil_mode=False)\n",
              "  (conv2): Conv2d(16, 32, kernel_size=(3, 3), stride=(1, 1), padding=(1, 1))\n",
              "  (relu2): ReLU()\n",
              "  (pool2): MaxPool2d(kernel_size=2, stride=2, padding=0, dilation=1, ceil_mode=False)\n",
              "  (fc1): Linear(in_features=100352, out_features=32, bias=True)\n",
              "  (fc2): Linear(in_features=32, out_features=2, bias=True)\n",
              ")"
            ]
          },
          "metadata": {},
          "execution_count": 8
        }
      ]
    },
    {
      "cell_type": "markdown",
      "source": [
        "# Training and Validation"
      ],
      "metadata": {
        "id": "15fdyqhBCN3A"
      }
    },
    {
      "cell_type": "code",
      "source": [
        "#TODO define number of epochs\n",
        "num_epochs = 25\n",
        "#arrays for the graphs\n",
        "train_losses = []\n",
        "train_accuracies = []\n",
        "validation_losses = []\n",
        "validation_accuracies = []\n",
        "\n",
        "#training loop\n",
        "for epoch in range(num_epochs):\n",
        "    train_loss = 0.0\n",
        "    train_correct = 0\n",
        "    train_total = 0\n",
        "    validation_loss = 0.0\n",
        "    validation_correct = 0\n",
        "    validation_total = 0\n",
        "\n",
        "    #model to training mode\n",
        "    model.train()\n",
        "\n",
        "    for images, labels in train_loader:\n",
        "        #move to GPU if available\n",
        "        images = images.to(device)\n",
        "        labels = labels.to(device)\n",
        "\n",
        "        #clear gradients\n",
        "        optimizer.zero_grad()\n",
        "\n",
        "        #getting the loss\n",
        "        outputs = model(images)\n",
        "        loss = criterion(outputs, labels)\n",
        "\n",
        "        #backward pass and optimization\n",
        "        loss.backward()\n",
        "        optimizer.step()\n",
        "\n",
        "        #get training loss and accuracy\n",
        "        train_loss += loss.item() * images.size(0)\n",
        "        _, predicted = torch.max(outputs.data, 1)\n",
        "        train_correct += (predicted == labels).sum().item()\n",
        "        train_total += labels.size(0)\n",
        "\n",
        "    #get the training losses and accuracies to respective arrays\n",
        "    train_loss = train_loss / len(train_loader.dataset)\n",
        "    train_accuracy = train_correct / train_total\n",
        "    train_losses.append(train_loss)\n",
        "    train_accuracies.append(train_accuracy)\n",
        "\n",
        "    #don't affect learning\n",
        "    with torch.no_grad():\n",
        "        for images, labels in validation_loader:\n",
        "            #data to the GPU if available\n",
        "            images = images.to(device)\n",
        "            labels = labels.to(device)\n",
        "\n",
        "            #getting the loss\n",
        "            outputs = model(images)\n",
        "            loss = criterion(outputs, labels)\n",
        "\n",
        "            #compute the validation loss and accuracy\n",
        "            validation_loss += loss.item() * images.size(0)\n",
        "            _, predicted = torch.max(outputs.data, 1)\n",
        "            validation_correct += (predicted == labels).sum().item()\n",
        "            validation_total += labels.size(0)\n",
        "\n",
        "    #get the valiadtion loss and accuracy\n",
        "    validation_loss = validation_loss / len(validation_loader.dataset)\n",
        "    validation_accuracy = validation_correct / validation_total\n",
        "    validation_losses.append(validation_loss)\n",
        "    validation_accuracies.append(validation_accuracy)\n",
        "\n",
        "    if epoch%10==0:\n",
        "        print(\"Epoch \"+str(epoch)+\" completed.\")\n",
        "\n",
        "\n",
        "#loss graph\n",
        "fig, (ax1, ax2) = plt.subplots(nrows=2, ncols=1, figsize=(8, 10))\n",
        "ax1.plot(range(1, num_epochs+1), train_losses, color=\"red\")\n",
        "ax1.plot(range(1, num_epochs+1), validation_losses, color=\"orange\")\n",
        "ax1.set_xlabel('Epoch')\n",
        "ax1.set_ylabel('Loss')\n",
        "ax1.tick_params(axis='y')\n",
        "ax1.legend(('Train Loss', 'Validation Loss'))\n",
        "\n",
        "#accuracy graph\n",
        "ax2.plot(range(1, num_epochs+1), train_accuracies, color=\"blue\")\n",
        "ax2.plot(range(1, num_epochs+1), validation_accuracies, color=\"green\")\n",
        "ax2.set_xlabel('Epoch')\n",
        "ax2.set_ylabel('Accuracy')\n",
        "ax2.tick_params(axis='y')\n",
        "ax2.legend(('Train Acc', 'Validation Acc'))\n",
        "\n",
        "fig.tight_layout()\n",
        "plt.show()\n",
        "\n",
        "\n",
        "PATH = './cnn.pth'\n",
        "torch.save(model.state_dict(), PATH)"
      ],
      "metadata": {
        "colab": {
          "base_uri": "https://localhost:8080/",
          "height": 1000
        },
        "id": "grVhZbGjCQ_Y",
        "outputId": "53cadc8b-9660-4d78-9e7a-fa9d8e33362d"
      },
      "execution_count": 9,
      "outputs": [
        {
          "output_type": "stream",
          "name": "stdout",
          "text": [
            "Epoch 0 completed.\n",
            "Epoch 10 completed.\n",
            "Epoch 20 completed.\n"
          ]
        },
        {
          "output_type": "display_data",
          "data": {
            "text/plain": [
              "<Figure size 800x1000 with 2 Axes>"
            ],
            "image/png": "[encoded data removed]"
          },
          "metadata": {}
        }
      ]
    },
    {
      "cell_type": "markdown",
      "source": [
        "# Testing loop"
      ],
      "metadata": {
        "id": "wpphbRwwLNyD"
      }
    },
    {
      "cell_type": "code",
      "source": [
        "#don't affect learning\n",
        "with torch.no_grad():\n",
        "    n_correct = 0\n",
        "    n_samples = 0\n",
        "    n_class_correct = [0, 1]\n",
        "    n_class_samples = [0, 1]\n",
        "    for images, labels in test_loader:\n",
        "        images = images.to(device)\n",
        "        labels = labels.to(device)\n",
        "        outputs = model(images)\n",
        "        _, predicted = torch.max(outputs, 1)\n",
        "        n_samples += labels.size(0)\n",
        "        n_correct += (predicted == labels).sum().item()\n",
        "\n",
        "    acc = 100.0 * n_correct / n_samples\n",
        "    print(f'Accuracy of the network: {acc} %')"
      ],
      "metadata": {
        "id": "hvdL2dBULUDQ",
        "colab": {
          "base_uri": "https://localhost:8080/"
        },
        "outputId": "cf032bce-d0f7-4cc8-9d9c-3e33f1c95e6f"
      },
      "execution_count": 10,
      "outputs": [
        {
          "output_type": "stream",
          "name": "stdout",
          "text": [
            "Accuracy of the network: 50.0 %\n"
          ]
        }
      ]
    }
  ]
}